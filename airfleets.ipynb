{
 "cells": [
  {
   "cell_type": "code",
   "execution_count": 15,
   "id": "6aef98e1-fd6b-4c04-bfe6-22473a38c11d",
   "metadata": {},
   "outputs": [],
   "source": [
    "#pip install fp\n",
    "#pip install free-proxy"
   ]
  },
  {
   "cell_type": "code",
   "execution_count": 7,
   "id": "ee60041d-fa5d-46e8-bb43-553cfd0498d9",
   "metadata": {},
   "outputs": [
    {
     "data": {
      "text/plain": [
       "'3.8.5'"
      ]
     },
     "execution_count": 7,
     "metadata": {},
     "output_type": "execute_result"
    }
   ],
   "source": [
    "from platform import python_version\n",
    "python_version()"
   ]
  },
  {
   "cell_type": "code",
   "execution_count": 16,
   "id": "48819bee-f14c-49bf-ad13-589c29f13d8c",
   "metadata": {},
   "outputs": [],
   "source": [
    "import requests\n",
    "from bs4 import BeautifulSoup\n",
    "import pandas as pd\n",
    "import time\n",
    "#from fake_useragent import UserAgent\n",
    "import random\n",
    "import json\n",
    "from fp.fp import FreeProxy"
   ]
  },
  {
   "cell_type": "code",
   "execution_count": 17,
   "id": "1625d6c8-5a5b-4183-87e9-d80c15e0b318",
   "metadata": {},
   "outputs": [
    {
     "data": {
      "text/plain": [
       "\"\\nproxy = FreeProxy(rand=True,https=False).get()\\nfrom sslproxies import ProxyManager\\n\\nproxy = ProxyManager().get_new_proxy()\\nprint(proxy)\\nfrom sslproxies import get_proxy\\n\\nproxy = get_proxy(countries=['US'], anonymous=True)\\nprint(proxy)\\n\""
      ]
     },
     "execution_count": 17,
     "metadata": {},
     "output_type": "execute_result"
    }
   ],
   "source": [
    "'''\n",
    "proxy = FreeProxy(rand=True,https=False).get()\n",
    "from sslproxies import ProxyManager\n",
    "\n",
    "proxy = ProxyManager().get_new_proxy()\n",
    "print(proxy)\n",
    "from sslproxies import get_proxy\n",
    "\n",
    "proxy = get_proxy(countries=['US'], anonymous=True)\n",
    "print(proxy)\n",
    "'''"
   ]
  },
  {
   "cell_type": "code",
   "execution_count": null,
   "id": "f47ec45e-a9a2-48c6-bbf6-92c28c81ea15",
   "metadata": {},
   "outputs": [],
   "source": []
  },
  {
   "cell_type": "code",
   "execution_count": null,
   "id": "ec24e5a5-2240-41a4-960d-1830df728ef1",
   "metadata": {},
   "outputs": [],
   "source": []
  },
  {
   "cell_type": "code",
   "execution_count": null,
   "id": "53f93bfc-6aae-43cd-9300-c586a4521866",
   "metadata": {},
   "outputs": [],
   "source": []
  },
  {
   "cell_type": "code",
   "execution_count": 18,
   "id": "f67fdd7f-689e-49ef-85be-d159c5556510",
   "metadata": {},
   "outputs": [
    {
     "name": "stdout",
     "output_type": "stream",
     "text": [
      "{'User-Agent': 'Mozilla/5.0 (Windows NT 10.0; Win64; x64) AppleWebKit/537.36 (KHTML, like Gecko) Chrome/114.0.0.0 Safari/537.36 Edg/114.0.1823.67'}\n"
     ]
    }
   ],
   "source": [
    "from fake_useragent import UserAgent\n",
    "ua = UserAgent()\n",
    "headers = {\"User-Agent\":ua.random}\n",
    "print(headers)"
   ]
  },
  {
   "cell_type": "code",
   "execution_count": 19,
   "id": "c50d9fd6-969e-4be2-93ad-1d4a35e43979",
   "metadata": {},
   "outputs": [
    {
     "name": "stdout",
     "output_type": "stream",
     "text": [
      "['A', 'B', 'C', 'D', 'E', 'F', 'G', 'H', 'I', 'J', 'K', 'L', 'M', 'N', 'O', 'P', 'Q', 'R', 'S', 'T', 'U', 'V', 'W', 'X', 'Y', 'Z']\n",
      "['a', 'b', 'c', 'd', 'e', 'f', 'g', 'h', 'i', 'j', 'k', 'l', 'm', 'n', 'o', 'p', 'q', 'r', 's', 't', 'u', 'v', 'w', 'x', 'y', 'z']\n"
     ]
    }
   ],
   "source": [
    "def listAlphabet():\n",
    "  return [chr(i).upper() for i in range(ord('a'),ord('z')+1)]\n",
    "print(listAlphabet())\n",
    "\n",
    "def listAlphabet_lower():\n",
    "  return [chr(i) for i in range(ord('a'),ord('z')+1)]\n",
    "print(listAlphabet_lower())"
   ]
  },
  {
   "cell_type": "code",
   "execution_count": 31,
   "id": "317a1e26-36aa-4516-8fda-50c12be337b2",
   "metadata": {
    "scrolled": true,
    "tags": []
   },
   "outputs": [
    {
     "name": "stdout",
     "output_type": "stream",
     "text": [
      "https://www.airfleets.net/recherche/list-airline-m.htm\n",
      "<Response [403]>\n"
     ]
    },
    {
     "ename": "AttributeError",
     "evalue": "'NoneType' object has no attribute 'text'",
     "output_type": "error",
     "traceback": [
      "\u001b[0;31m---------------------------------------------------------------------------\u001b[0m",
      "\u001b[0;31mAttributeError\u001b[0m                            Traceback (most recent call last)",
      "Cell \u001b[0;32mIn[31], line 32\u001b[0m\n\u001b[1;32m     28\u001b[0m     \u001b[38;5;28;01mreturn\u001b[39;00m page\u001b[38;5;241m.\u001b[39mtext\n\u001b[1;32m     31\u001b[0m \u001b[38;5;28;01mfor\u001b[39;00m lettera \u001b[38;5;129;01min\u001b[39;00m alphabet[\u001b[38;5;241m12\u001b[39m:]:\n\u001b[0;32m---> 32\u001b[0m     num_pagine \u001b[38;5;241m=\u001b[39m \u001b[43mget_num_pages\u001b[49m\u001b[43m(\u001b[49m\u001b[38;5;124;43m'\u001b[39;49m\u001b[38;5;124;43mhttps://www.airfleets.net/recherche/list-airline-\u001b[39;49m\u001b[38;5;132;43;01m{}\u001b[39;49;00m\u001b[38;5;124;43m.htm\u001b[39;49m\u001b[38;5;124;43m'\u001b[39;49m\u001b[38;5;241;43m.\u001b[39;49m\u001b[43mformat\u001b[49m\u001b[43m(\u001b[49m\u001b[43mlettera\u001b[49m\u001b[43m)\u001b[49m\u001b[43m)\u001b[49m\n\u001b[1;32m     33\u001b[0m     \u001b[38;5;28mprint\u001b[39m(num_pagine)\n\u001b[1;32m     34\u001b[0m     num_pagine \u001b[38;5;241m=\u001b[39m num_pagine\u001b[38;5;241m.\u001b[39msplit(\u001b[38;5;124m'\u001b[39m\u001b[38;5;124m/\u001b[39m\u001b[38;5;124m'\u001b[39m)[\u001b[38;5;241m1\u001b[39m]\n",
      "Cell \u001b[0;32mIn[31], line 28\u001b[0m, in \u001b[0;36mget_num_pages\u001b[0;34m(url)\u001b[0m\n\u001b[1;32m     26\u001b[0m lista_num_pagine \u001b[38;5;241m=\u001b[39m []\n\u001b[1;32m     27\u001b[0m page \u001b[38;5;241m=\u001b[39m soup\u001b[38;5;241m.\u001b[39mfind(\u001b[38;5;124m\"\u001b[39m\u001b[38;5;124ma\u001b[39m\u001b[38;5;124m\"\u001b[39m, {\u001b[38;5;124m\"\u001b[39m\u001b[38;5;124mclass\u001b[39m\u001b[38;5;124m\"\u001b[39m: \u001b[38;5;124m\"\u001b[39m\u001b[38;5;124mpage2\u001b[39m\u001b[38;5;124m\"\u001b[39m})\n\u001b[0;32m---> 28\u001b[0m \u001b[38;5;28;01mreturn\u001b[39;00m \u001b[43mpage\u001b[49m\u001b[38;5;241;43m.\u001b[39;49m\u001b[43mtext\u001b[49m\n",
      "\u001b[0;31mAttributeError\u001b[0m: 'NoneType' object has no attribute 'text'"
     ]
    }
   ],
   "source": [
    "####NUOVO SITO https://www.airfleets.net/recherche/list-airline-a.htm\n",
    "\n",
    "#{'truth': 185.179993, 'day1': 197.22307753038834, 'day2': 197.26118010160317, 'day3': 197.19846975345905, 'day4': 197.1490578795196, 'day5': 197.37179265011116}\n",
    "\n",
    "alphabet = listAlphabet_lower()\n",
    "column_names = []\n",
    "righe = []\n",
    "row_names = []\n",
    "def get_num_pages(url):\n",
    "    print(url)\n",
    "    #data = requests.get( url,headers = headers)\n",
    "    data = requests.get( url,headers = {\"User-Agent\":ua.random})\n",
    "    print(data)\n",
    "    soup = BeautifulSoup(data.content, 'html.parser')\n",
    "    capcha = soup.find(\"div\", {\"class\": \"g-recaptcha\"})\n",
    "    if capcha != None:\n",
    "        print('CAPCHA FOUND! key is {}'.format(capcha['data-sitekey']))\n",
    "        body = {\"k\": '6Lfn_sQZAAAAANYYrihbxzJfLjdild78jHbTGIt5'}\n",
    "        \n",
    "        \n",
    "        requests.post('https://www.google.com/recaptcha/api2/reload?k={}'.format(capcha['data-sitekey']),headers = {\"User-Agent\":ua.random},  data=json.dumps(body))\n",
    "        data = requests.get( url,headers = headers)\n",
    "        soup = BeautifulSoup(data.content, 'html.parser')\n",
    "\n",
    "        \n",
    "    lista_num_pagine = []\n",
    "    page = soup.find(\"a\", {\"class\": \"page2\"})\n",
    "    return page.text\n",
    "        \n",
    "\n",
    "for lettera in alphabet[12:]:\n",
    "    num_pagine = get_num_pages('https://www.airfleets.net/recherche/list-airline-{}.htm'.format(lettera))\n",
    "    print(num_pagine)\n",
    "    num_pagine = num_pagine.split('/')[1]\n",
    "    for pagina in range(1,int(num_pagine)+1):\n",
    "        headers = {\"User-Agent\":ua.random}\n",
    "\n",
    "        url =''\n",
    "        if pagina == 1:\n",
    "            url = 'https://www.airfleets.net/recherche/list-airline-{}_0.htm'.format(lettera)\n",
    "        else:\n",
    "            url = 'https://www.airfleets.net/recherche/list-airline-{}_{}.htm'.format(lettera,(pagina-1)*20)\n",
    "        data = requests.get( url,headers = headers)\n",
    "        soup = BeautifulSoup(data.content, 'html.parser')\n",
    "        print('fetch indirizzo {} {}\\n{}'.format(url,data,headers))\n",
    "        for table in soup.find_all(\"table\", class_=\"tablestd\"):\n",
    "            for row in table.find_all(\"tr\", class_=\"tabcontent\"):\n",
    "                for colonna in row.find_all(\"td\"):\n",
    "                    \n",
    "                    row_names.append(colonna.text)\n",
    "                    #print(row_names)\n",
    "                #print('fine row')\n",
    "\n",
    "                righe.append(row_names)\n",
    "                row_names = []\n",
    "        #time.sleep(1.5)\n",
    "        print(\"next\")\n"
   ]
  },
  {
   "cell_type": "code",
   "execution_count": null,
   "id": "e9de591d-f780-448c-9f20-fdf8392ea342",
   "metadata": {
    "scrolled": true,
    "tags": []
   },
   "outputs": [],
   "source": [
    "print('totale righe = {}'.format(len(righe_sino_m) + len(righe_n_m) + len(righe)))"
   ]
  },
  {
   "cell_type": "code",
   "execution_count": null,
   "id": "754320da-6ad7-4f14-9a4a-d99216574435",
   "metadata": {},
   "outputs": [],
   "source": [
    "righe_tot = righe_sino_m + righe_n_m + righe"
   ]
  },
  {
   "cell_type": "code",
   "execution_count": null,
   "id": "929101bb-6538-4f39-8bd9-0dce802d91b1",
   "metadata": {},
   "outputs": [],
   "source": [
    "len(righe_tot)"
   ]
  },
  {
   "cell_type": "code",
   "execution_count": null,
   "id": "70ea8cc5-737b-4365-9a77-29aaa9f503de",
   "metadata": {},
   "outputs": [],
   "source": [
    "'''\n",
    "from datetime import date\n",
    "import pickle\n",
    "today = date.today()\n",
    "\n",
    "tosave = [righe_sino_m_sino_fine,righe_sino_m_compreso]\n",
    "with open('saved_{}.pkl'.format(today), 'wb') as file:\n",
    "    # A new file will be created\n",
    "    pickle.dump(tosave, file)\n",
    "'''"
   ]
  },
  {
   "cell_type": "code",
   "execution_count": null,
   "id": "7c3bb7d1",
   "metadata": {},
   "outputs": [],
   "source": [
    "import pickle\n",
    "file = open('saved_2023-08-29.pkl', 'rb')\n",
    "tosave = pickle.load(file)\n",
    "file.close()\n",
    "\n",
    "righe_sino_m_sino_fine = tosave[0]\n",
    "righe_sino_m_compreso = tosave[1]"
   ]
  },
  {
   "cell_type": "code",
   "execution_count": null,
   "id": "784b6aaf-d606-4b86-b674-d9ac77345456",
   "metadata": {},
   "outputs": [],
   "source": [
    "righe = righe_sino_m_compreso + righe_sino_m_sino_fine"
   ]
  },
  {
   "cell_type": "code",
   "execution_count": null,
   "id": "741ca683-4df6-4739-aa0b-1a817fb22ea6",
   "metadata": {},
   "outputs": [],
   "source": [
    "len(righe)\n",
    "intestazione = ['AIRLINE','IMgG','COUNTRY','INFORMATION']\n",
    "df_new = pd.DataFrame(columns=intestazione)\n",
    "for r in righe:\n",
    "    if len(r)!=0:\n",
    "        r = [el.replace('\\n','') for el in  r]\n",
    "        df_new.loc[len(df_new)] = r\n",
    "\n",
    "df_new.drop_duplicates(inplace = True)\n",
    "df_new.head()\n"
   ]
  },
  {
   "cell_type": "code",
   "execution_count": null,
   "id": "c32c97ff-8fe3-4674-8794-81fbc61d13e8",
   "metadata": {},
   "outputs": [],
   "source": [
    "df_new.to_excel('laura_new.xlsx', index = False)\n"
   ]
  },
  {
   "cell_type": "code",
   "execution_count": null,
   "id": "efb674a9-cc3a-49df-9473-cdb9c3b4f5bb",
   "metadata": {
    "scrolled": true,
    "tags": []
   },
   "outputs": [],
   "source": [
    "#{'truth': 185.179993, 'day1': 197.22307753038834, 'day2': 197.26118010160317, 'day3': 197.19846975345905, 'day4': 197.1490578795196, 'day5': 197.37179265011116}\n",
    "\n",
    "alphabet = listAlphabet()\n",
    "alphabet.insert(0,9)\n",
    "column_names = []\n",
    "righe = []\n",
    "row_names = []\n",
    "def get_num_pages(url):\n",
    "    data = requests.get( url,headers = headers)\n",
    "    soup = BeautifulSoup(data.content, 'html.parser')\n",
    "    lista_num_pagine = []\n",
    "    page = soup.find(\"div\", {\"class\": \"pages\"})\n",
    "    if page == None:\n",
    "        return '1'\n",
    "    \n",
    "    for a in page.find_all('a', href=True):\n",
    "        lista_num_pagine.append(a.text)\n",
    "    \n",
    "    return lista_num_pagine[-1]\n",
    "        \n",
    "\n",
    "for lettera in alphabet:\n",
    "    num_pagine = get_num_pages('https://www.planespotters.net/airlines/{}'.format(lettera))\n",
    "    for pagina in range(1,int(num_pagine)+1):\n",
    "        url = 'https://www.planespotters.net/airlines/{}/{}'.format(lettera,pagina)\n",
    "        data = requests.get( url,headers = headers)\n",
    "        soup = BeautifulSoup(data.content, 'html.parser')\n",
    "        print('fetch indirizzo {} {}'.format(url,data))\n",
    "        for table in soup.find_all(\"div\", class_=\"datatable\"):\n",
    "            \n",
    "            for row in table.find_all(\"div\", class_=\"dt-tr\"):\n",
    "   \n",
    "                for colonna in row.find_all(\"div\", class_=\"dt-td\"):\n",
    "                    row_names.append(colonna.text)\n",
    "\n",
    "                righe.append(row_names)\n",
    "                row_names = []\n"
   ]
  },
  {
   "cell_type": "code",
   "execution_count": null,
   "id": "d8c15afe-bf35-41f9-8561-2df5264ef8e1",
   "metadata": {},
   "outputs": [],
   "source": [
    "for r in righe:\n",
    "    print(r)"
   ]
  },
  {
   "cell_type": "code",
   "execution_count": null,
   "id": "5115620a-43f1-468a-9cef-5cd4e0651684",
   "metadata": {},
   "outputs": [],
   "source": [
    "#2274\n",
    "count = 0\n",
    "for r in righe:\n",
    "    if len(r)==0:\n",
    "        count = count +1\n",
    "        \n",
    "print('originali = {}\\n altri{}'.format(len(righe),count + 5663))\n"
   ]
  },
  {
   "cell_type": "code",
   "execution_count": null,
   "id": "9e12b351-1501-45f3-ac85-768c8eb056b5",
   "metadata": {
    "scrolled": true,
    "tags": []
   },
   "outputs": [],
   "source": [
    "intestazione = ['','Airline Name','Country','Fleet','Photos']\n",
    "df = pd.DataFrame(columns=intestazione)\n",
    "for r in righe:\n",
    "    if len(r)!=0:\n",
    "        r = [el.replace('\\n','') for el in  r]\n",
    "        df.loc[len(df)] = r\n",
    "\n",
    "df.head()"
   ]
  },
  {
   "cell_type": "code",
   "execution_count": null,
   "id": "afb73058-2544-436f-bb82-3f5a3742e5f8",
   "metadata": {},
   "outputs": [],
   "source": [
    "len(df)"
   ]
  },
  {
   "cell_type": "code",
   "execution_count": null,
   "id": "794f5995-63f2-476f-a828-fbf6a84d046e",
   "metadata": {},
   "outputs": [],
   "source": [
    "df.to_excel('laura.xlsx', index = False)\n"
   ]
  },
  {
   "cell_type": "code",
   "execution_count": null,
   "id": "378a395c-097f-4057-a2ef-bfc514ba9c5c",
   "metadata": {},
   "outputs": [],
   "source": [
    "df[df['Airline Name'] == 'BWIA West Indies Airways' ]"
   ]
  },
  {
   "cell_type": "code",
   "execution_count": null,
   "id": "a318215d-3f3f-40a5-b0b5-3e8aee88695c",
   "metadata": {},
   "outputs": [],
   "source": []
  }
 ],
 "metadata": {
  "kernelspec": {
   "display_name": "Python 3 (ipykernel)",
   "language": "python",
   "name": "python3"
  },
  "language_info": {
   "codemirror_mode": {
    "name": "ipython",
    "version": 3
   },
   "file_extension": ".py",
   "mimetype": "text/x-python",
   "name": "python",
   "nbconvert_exporter": "python",
   "pygments_lexer": "ipython3",
   "version": "3.9.17"
  }
 },
 "nbformat": 4,
 "nbformat_minor": 5
}
