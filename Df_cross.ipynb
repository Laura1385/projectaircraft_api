{
 "cells": [
  {
   "cell_type": "code",
   "execution_count": 13,
   "id": "f8330991",
   "metadata": {},
   "outputs": [],
   "source": [
    "import utils as ut\n",
    "\n",
    "import requests\n",
    "import time\n",
    "import random\n",
    "import json\n",
    "import pandas as pd\n",
    "import pickle\n",
    "import re\n",
    "import folium\n",
    "import matplotlib.pyplot as plt\n",
    "import os\n",
    "import time\n",
    "\n",
    "from bs4 import BeautifulSoup\n",
    "from urllib.request import urlopen\n",
    "from fake_useragent import UserAgent \n",
    "from datetime import date\n",
    "from geopy.geocoders import Nominatim\n",
    "from selenium import webdriver\n",
    "\n",
    "import warnings\n",
    "warnings.filterwarnings('ignore')"
   ]
  },
  {
   "cell_type": "code",
   "execution_count": 14,
   "id": "23f9929f",
   "metadata": {},
   "outputs": [
    {
     "name": "stdout",
     "output_type": "stream",
     "text": [
      "<class 'str'>\n",
      "Duplicati trovati: 6\n",
      "          AIRLINE\n",
      "207       airlink\n",
      "209      airnorth\n",
      "485   eastafrican\n",
      "1134   smartwings\n",
      "1312      vivaair\n",
      "1348    world2fly\n",
      "\n",
      "DataFrame senza duplicati:\n",
      "\n",
      "Ora il DataFrame ha: 1381 righe - (in origine erano 1387)\n"
     ]
    }
   ],
   "source": [
    "df_sky = pd.read_excel('df_skyscanners_clean.xlsx')\n",
    "#via spazi prima e dopo valore\n",
    "df_sky['AIRLINE'] = df_sky['AIRLINE'].str.strip()\n",
    "#tutto in minuscolo\n",
    "df_sky['AIRLINE'] = df_sky['AIRLINE'].str.lower()\n",
    "#togli punteggiatura\n",
    "df_sky['AIRLINE'] = df_sky['AIRLINE'].str.replace(r'[^\\w\\s]', '', regex=True).str.replace(r'\\s+', '', regex=True)\n",
    "#normalizza valori togliendo accenti\n",
    "df_sky['AIRLINE'] = df_sky['AIRLINE'].str.normalize('NFKD').str.encode('ascii', errors='ignore').str.decode('utf-8')\n",
    "\n",
    "print (type('AIRLINE'))\n",
    "#df_sky.head()\n",
    "#1387 righe\n",
    "\n",
    "# Trova e mostra i duplicati\n",
    "duplicati = df_sky[df_sky.duplicated()]\n",
    "print(\"Duplicati trovati:\", len(duplicati))\n",
    "print(duplicati)\n",
    "\n",
    "# Rimuovi i duplicati e mostra il DataFrame senza duplicati\n",
    "df_no_dup_sky = df_sky.drop_duplicates()\n",
    "print(\"\\nDataFrame senza duplicati:\")\n",
    "#print(df_senza_duplicati)\n",
    "df_no_dup_sky.head()\n",
    "\n",
    "print(\"\\nOra il DataFrame ha:\", len(df_no_dup_sky), \"righe - (in origine erano 1387)\")"
   ]
  },
  {
   "cell_type": "code",
   "execution_count": 15,
   "id": "31e25941",
   "metadata": {},
   "outputs": [],
   "source": [
    "df_no_dup_sky.to_excel(\"sky.xlsx\", index=False)"
   ]
  },
  {
   "cell_type": "code",
   "execution_count": null,
   "id": "685c047d",
   "metadata": {},
   "outputs": [],
   "source": []
  },
  {
   "cell_type": "code",
   "execution_count": 53,
   "id": "937796ac",
   "metadata": {},
   "outputs": [
    {
     "name": "stdout",
     "output_type": "stream",
     "text": [
      "<class 'str'>\n",
      "\n",
      "Duplicati trovati: 2\n",
      "          AIRLINE  COUNTRY              INFORMATION/N.AIRCRAFT AIRLINE_copy  \\\n",
      "1823  germanwings  Germany  inactive (with supported aircraft)  Germanwings   \n",
      "3472    sultanair   Turkey  inactive (with supported aircraft)    Sultanair   \n",
      "\n",
      "     COUNTRY_copy         INFORMATION/N.AIRCRAFT_copy  \n",
      "1823      Germany  inactive (with supported aircraft)  \n",
      "3472       Turkey  inactive (with supported aircraft)  \n",
      "\n",
      "DataFrame senza duplicati:\n",
      "\n",
      "Ora il DataFrame ha: 4031 righe - (in origine erano 4031)\n"
     ]
    }
   ],
   "source": [
    "df_af = pd.read_excel('df_airfleets_clean.xlsx')\n",
    "\n",
    "#duplico l'intero df\n",
    "df_af['AIRLINE_copy'] = df_af['AIRLINE'].copy()\n",
    "df_af['COUNTRY_copy'] = df_af['COUNTRY'].copy()\n",
    "df_af['INFORMATION/N.AIRCRAFT_copy'] = df_af['INFORMATION/N.AIRCRAFT'].copy()\n",
    "\n",
    "#via spazi\n",
    "df_af['AIRLINE'] = df_af['AIRLINE'].str.strip()\n",
    "#tutto in minuscolo\n",
    "df_af['AIRLINE'] = df_af['AIRLINE'].str.lower()\n",
    "#togli punteggiatura\n",
    "df_af['AIRLINE'] = df_af['AIRLINE'].str.replace(r'[^\\w\\s]', '', regex=True).str.replace(r'\\s+', '', regex=True)\n",
    "#normalizza valori togliendo accenti\n",
    "df_af['AIRLINE'] = df_af['AIRLINE'].str.normalize('NFKD').str.encode('ascii', errors='ignore').str.decode('utf-8')\n",
    "\n",
    "print (type('AIRLINE'))\n",
    "#df_af.head()\n",
    "#4031 righe\n",
    "\n",
    "# Trova e mostra i duplicati\n",
    "#duplicati = df_af[df_af.duplicated()]\n",
    "duplicati = df_af[df_af.duplicated(subset=['AIRLINE', 'COUNTRY', 'INFORMATION/N.AIRCRAFT'])]\n",
    "print(\"\\nDuplicati trovati:\", len(duplicati))\n",
    "print(duplicati)\n",
    "\n",
    "#Rimuovi i duplicati e mostra il DataFrame senza duplicati\n",
    "df_no_dup_af = df_af.drop_duplicates()\n",
    "print(\"\\nDataFrame senza duplicati:\")\n",
    "#print(df_senza_duplicati)\n",
    "df_no_dup_af.head()\n",
    "\n",
    "print(\"\\nOra il DataFrame ha:\", len(df_no_dup_af), \"righe - (in origine erano 4031)\")"
   ]
  },
  {
   "cell_type": "code",
   "execution_count": 5,
   "id": "e120f029",
   "metadata": {},
   "outputs": [],
   "source": [
    "df_no_dup_af.to_excel(\"af.xlsx\", index=False)"
   ]
  },
  {
   "cell_type": "code",
   "execution_count": 54,
   "id": "770fc7c2",
   "metadata": {},
   "outputs": [
    {
     "name": "stdout",
     "output_type": "stream",
     "text": [
      "AIRLINE\n",
      "jettime            2\n",
      "easternairlines    2\n",
      "airitaly           2\n",
      "germanwings        2\n",
      "flyme              2\n",
      "                  ..\n",
      "cubana             1\n",
      "cyprusairways      1\n",
      "daalloairlines     1\n",
      "dalianairlines     1\n",
      "zambiaairways      1\n",
      "Name: count, Length: 840, dtype: int64\n"
     ]
    }
   ],
   "source": [
    "risultato = pd.merge(df_no_dup_af, df_no_dup_sky, on='AIRLINE', how='inner')\n",
    "\n",
    "conteggio_compagnie = risultato2['AIRLINE'].value_counts()\n",
    "compagnie_con_piu_di_1_occorrenza = conteggio_compagnie[conteggio_compagnie >= 1]\n",
    "\n",
    "#Visualizza le compagnie aeree e il relativo conteggio\n",
    "print(compagnie_con_piu_di_1_occorrenza)\n"
   ]
  },
  {
   "cell_type": "code",
   "execution_count": 62,
   "id": "978c4fb5",
   "metadata": {},
   "outputs": [
    {
     "name": "stdout",
     "output_type": "stream",
     "text": [
      "              AIRLINE      COUNTRY              INFORMATION/N.AIRCRAFT\n",
      "0     Aegean Airlines       Greece                                  59\n",
      "1          Aer Lingus      Ireland                                  54\n",
      "2      Aero Caribbean         Cuba                                   2\n",
      "3    Aero Contractors      Nigeria                                   1\n",
      "4           Aero Dili  Timor-Leste                                   1\n",
      "..                ...          ...                                 ...\n",
      "847     Yeti Airlines        Nepal                                   5\n",
      "848   Zagros Airlines         Iran                                  12\n",
      "849         Zagrosjet         Iraq  inactive (with supported aircraft)\n",
      "850  Zambezi Airlines       Zambia  inactive (with supported aircraft)\n",
      "851    Zambia Airways       Zambia                                   1\n",
      "\n",
      "[852 rows x 3 columns]\n"
     ]
    }
   ],
   "source": [
    "#delete colonne originali\n",
    "risultato.drop(columns=['AIRLINE', 'COUNTRY', 'INFORMATION/N.AIRCRAFT'], inplace=True)\n",
    "\n",
    "#rename le colonne copiate eliminando \"_copy\"\n",
    "risultato.rename(columns={'AIRLINE_copy': 'AIRLINE', 'COUNTRY_copy': 'COUNTRY', 'INFORMATION/N.AIRCRAFT_copy': 'INFORMATION/N.AIRCRAFT'}, inplace=True)\n",
    "\n",
    "print(risultato)"
   ]
  },
  {
   "cell_type": "code",
   "execution_count": 61,
   "id": "569c5213",
   "metadata": {},
   "outputs": [],
   "source": [
    "risultato.to_excel(\"risultato.xlsx\", index=False)"
   ]
  },
  {
   "cell_type": "code",
   "execution_count": 65,
   "id": "73846fa6",
   "metadata": {},
   "outputs": [
    {
     "name": "stdout",
     "output_type": "stream",
     "text": [
      "         AIRLINE          COUNTRY              INFORMATION/N.AIRCRAFT\n",
      "522     Luke Air            Malta  inactive (with supported aircraft)\n",
      "588   Open Skies   United Kingdom  inactive (with supported aircraft)\n",
      "386  Germanwings          Germany  inactive (with supported aircraft)\n",
      "690       Skyjet  Antigua Barbuda  inactive (with supported aircraft)\n",
      "103    Air Sinai            Egypt  inactive (with supported aircraft)\n"
     ]
    }
   ],
   "source": [
    "df_inactive = risultato[risultato['INFORMATION/N.AIRCRAFT'].str.contains('inactive')]\n",
    "\n",
    "#Estrai 5 righe casuali da df_inactive\n",
    "#random_state se specificato estrai gli stessi valori in run successivi\n",
    "righe_casuali = df_inactive.sample(n=5, random_state=42)  \n",
    "\n",
    "nuovo_df = pd.DataFrame(righe_casuali)\n",
    "\n",
    "# Stampa il nuovo DataFrame\n",
    "print(nuovo_df)"
   ]
  },
  {
   "cell_type": "code",
   "execution_count": null,
   "id": "8e97d162",
   "metadata": {},
   "outputs": [],
   "source": []
  },
  {
   "cell_type": "code",
   "execution_count": null,
   "id": "7a366a6b",
   "metadata": {},
   "outputs": [],
   "source": []
  }
 ],
 "metadata": {
  "kernelspec": {
   "display_name": "Python 3 (ipykernel)",
   "language": "python",
   "name": "python3"
  },
  "language_info": {
   "codemirror_mode": {
    "name": "ipython",
    "version": 3
   },
   "file_extension": ".py",
   "mimetype": "text/x-python",
   "name": "python",
   "nbconvert_exporter": "python",
   "pygments_lexer": "ipython3",
   "version": "3.9.17"
  }
 },
 "nbformat": 4,
 "nbformat_minor": 5
}
