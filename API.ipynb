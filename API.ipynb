{
 "cells": [
  {
   "cell_type": "code",
   "execution_count": 2,
   "id": "0b5cf8e0",
   "metadata": {},
   "outputs": [],
   "source": [
    "#pip install fastapi\n",
    "#pip install uvicorn"
   ]
  },
  {
   "cell_type": "code",
   "execution_count": 11,
   "id": "d5e9b19d",
   "metadata": {},
   "outputs": [],
   "source": [
    "from fastapi import FastAPI\n",
    "\n",
    "app = FastAPI()\n",
    "\n",
    "data = {\n",
    "    'lieux': [\n",
    "        'Paris',\n",
    "        'Lyon',\n",
    "        'Marseille',\n",
    "        'Montpellier',\n",
    "        'Toulon',\n",
    "        'Lilles',\n",
    "        'Nantes']\n",
    "}\n",
    "\n",
    "@app.get(\"/lieux\")\n",
    "async def get_lieux():\n",
    "    # renvoyer nos données et 200 code OK\n",
    "    return {'Paesi': dati}"
   ]
  }
 ],
 "metadata": {
  "kernelspec": {
   "display_name": "Python 3 (ipykernel)",
   "language": "python",
   "name": "python3"
  },
  "language_info": {
   "codemirror_mode": {
    "name": "ipython",
    "version": 3
   },
   "file_extension": ".py",
   "mimetype": "text/x-python",
   "name": "python",
   "nbconvert_exporter": "python",
   "pygments_lexer": "ipython3",
   "version": "3.9.17"
  }
 },
 "nbformat": 4,
 "nbformat_minor": 5
}
