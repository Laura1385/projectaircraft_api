{
 "cells": [
  {
   "cell_type": "code",
   "execution_count": 1,
   "id": "48819bee-f14c-49bf-ad13-589c29f13d8c",
   "metadata": {},
   "outputs": [],
   "source": [
    "import requests\n",
    "from bs4 import BeautifulSoup\n",
    "import pandas as pd\n",
    "#from fake_useragent import UserAgent\n"
   ]
  },
  {
   "cell_type": "code",
   "execution_count": 2,
   "id": "f67fdd7f-689e-49ef-85be-d159c5556510",
   "metadata": {},
   "outputs": [
    {
     "data": {
      "text/plain": [
       "\"\\n['',\\n 'Airline Name',\\n 'Country',\\n 'Fleet',\\n 'Photos',\\n '',\\n\""
      ]
     },
     "execution_count": 2,
     "metadata": {},
     "output_type": "execute_result"
    }
   ],
   "source": [
    "headers = {'User-Agent': 'Mozilla/5.0 (Macintosh; Intel Mac OS X 10_10_1) AppleWebKit/537.36 (KHTML, like Gecko) Chrome/39.0.2171.95 Safari/537.36'}\n",
    "\n",
    "'''\n",
    "['',\n",
    " 'Airline Name',\n",
    " 'Country',\n",
    " 'Fleet',\n",
    " 'Photos',\n",
    " '',\n",
    "'''"
   ]
  },
  {
   "cell_type": "code",
   "execution_count": 3,
   "id": "c50d9fd6-969e-4be2-93ad-1d4a35e43979",
   "metadata": {},
   "outputs": [
    {
     "name": "stdout",
     "output_type": "stream",
     "text": [
      "['A', 'B', 'C', 'D', 'E', 'F', 'G', 'H', 'I', 'J', 'K', 'L', 'M', 'N', 'O', 'P', 'Q', 'R', 'S', 'T', 'U', 'V', 'W', 'X', 'Y', 'Z']\n"
     ]
    }
   ],
   "source": [
    "def listAlphabet():\n",
    "  return [chr(i).upper() for i in range(ord('a'),ord('z')+1)]\n",
    "print(listAlphabet())"
   ]
  },
  {
   "cell_type": "code",
   "execution_count": 5,
   "id": "a984f0c9-0802-4459-8897-55eecd698eeb",
   "metadata": {
    "scrolled": true,
    "tags": []
   },
   "outputs": [
    {
     "name": "stdout",
     "output_type": "stream",
     "text": [
      "fetch indirizzo https://www.planespotters.net/airlines/9/1 <Response [200]>\n",
      "fetch indirizzo https://www.planespotters.net/airlines/A/1 <Response [200]>\n",
      "fetch indirizzo https://www.planespotters.net/airlines/A/2 <Response [200]>\n",
      "fetch indirizzo https://www.planespotters.net/airlines/A/3 <Response [200]>\n",
      "fetch indirizzo https://www.planespotters.net/airlines/A/4 <Response [200]>\n",
      "fetch indirizzo https://www.planespotters.net/airlines/A/5 <Response [200]>\n",
      "fetch indirizzo https://www.planespotters.net/airlines/A/6 <Response [200]>\n",
      "fetch indirizzo https://www.planespotters.net/airlines/A/7 <Response [200]>\n",
      "fetch indirizzo https://www.planespotters.net/airlines/A/8 <Response [200]>\n",
      "fetch indirizzo https://www.planespotters.net/airlines/A/9 <Response [200]>\n",
      "fetch indirizzo https://www.planespotters.net/airlines/A/10 <Response [200]>\n",
      "fetch indirizzo https://www.planespotters.net/airlines/A/11 <Response [200]>\n",
      "fetch indirizzo https://www.planespotters.net/airlines/A/12 <Response [200]>\n",
      "fetch indirizzo https://www.planespotters.net/airlines/A/13 <Response [200]>\n",
      "fetch indirizzo https://www.planespotters.net/airlines/B/1 <Response [200]>\n",
      "fetch indirizzo https://www.planespotters.net/airlines/B/2 <Response [200]>\n",
      "fetch indirizzo https://www.planespotters.net/airlines/B/3 <Response [200]>\n",
      "fetch indirizzo https://www.planespotters.net/airlines/C/1 <Response [200]>\n",
      "fetch indirizzo https://www.planespotters.net/airlines/C/2 <Response [200]>\n",
      "fetch indirizzo https://www.planespotters.net/airlines/C/3 <Response [200]>\n",
      "fetch indirizzo https://www.planespotters.net/airlines/C/4 <Response [200]>\n",
      "fetch indirizzo https://www.planespotters.net/airlines/D/1 <Response [200]>\n",
      "fetch indirizzo https://www.planespotters.net/airlines/D/2 <Response [200]>\n",
      "fetch indirizzo https://www.planespotters.net/airlines/E/1 <Response [200]>\n",
      "fetch indirizzo https://www.planespotters.net/airlines/E/2 <Response [200]>\n",
      "fetch indirizzo https://www.planespotters.net/airlines/E/3 <Response [200]>\n",
      "fetch indirizzo https://www.planespotters.net/airlines/F/1 <Response [200]>\n",
      "fetch indirizzo https://www.planespotters.net/airlines/F/2 <Response [200]>\n",
      "fetch indirizzo https://www.planespotters.net/airlines/F/3 <Response [200]>\n",
      "fetch indirizzo https://www.planespotters.net/airlines/G/1 <Response [200]>\n",
      "fetch indirizzo https://www.planespotters.net/airlines/G/2 <Response [200]>\n",
      "fetch indirizzo https://www.planespotters.net/airlines/H/1 <Response [200]>\n",
      "fetch indirizzo https://www.planespotters.net/airlines/H/2 <Response [200]>\n",
      "fetch indirizzo https://www.planespotters.net/airlines/I/1 <Response [200]>\n",
      "fetch indirizzo https://www.planespotters.net/airlines/I/2 <Response [200]>\n",
      "fetch indirizzo https://www.planespotters.net/airlines/J/1 <Response [200]>\n",
      "fetch indirizzo https://www.planespotters.net/airlines/J/2 <Response [200]>\n",
      "fetch indirizzo https://www.planespotters.net/airlines/K/1 <Response [200]>\n",
      "fetch indirizzo https://www.planespotters.net/airlines/K/2 <Response [200]>\n",
      "fetch indirizzo https://www.planespotters.net/airlines/L/1 <Response [200]>\n",
      "fetch indirizzo https://www.planespotters.net/airlines/L/2 <Response [200]>\n",
      "fetch indirizzo https://www.planespotters.net/airlines/L/3 <Response [200]>\n",
      "fetch indirizzo https://www.planespotters.net/airlines/M/1 <Response [200]>\n",
      "fetch indirizzo https://www.planespotters.net/airlines/M/2 <Response [200]>\n",
      "fetch indirizzo https://www.planespotters.net/airlines/M/3 <Response [200]>\n",
      "fetch indirizzo https://www.planespotters.net/airlines/N/1 <Response [200]>\n",
      "fetch indirizzo https://www.planespotters.net/airlines/N/2 <Response [200]>\n",
      "fetch indirizzo https://www.planespotters.net/airlines/O/1 <Response [200]>\n",
      "fetch indirizzo https://www.planespotters.net/airlines/P/1 <Response [200]>\n",
      "fetch indirizzo https://www.planespotters.net/airlines/P/2 <Response [200]>\n",
      "fetch indirizzo https://www.planespotters.net/airlines/P/3 <Response [200]>\n",
      "fetch indirizzo https://www.planespotters.net/airlines/Q/1 <Response [200]>\n",
      "fetch indirizzo https://www.planespotters.net/airlines/R/1 <Response [200]>\n",
      "fetch indirizzo https://www.planespotters.net/airlines/R/2 <Response [200]>\n",
      "fetch indirizzo https://www.planespotters.net/airlines/S/1 <Response [200]>\n",
      "fetch indirizzo https://www.planespotters.net/airlines/S/2 <Response [200]>\n",
      "fetch indirizzo https://www.planespotters.net/airlines/S/3 <Response [200]>\n",
      "fetch indirizzo https://www.planespotters.net/airlines/S/4 <Response [200]>\n",
      "fetch indirizzo https://www.planespotters.net/airlines/S/5 <Response [200]>\n",
      "fetch indirizzo https://www.planespotters.net/airlines/S/6 <Response [200]>\n",
      "fetch indirizzo https://www.planespotters.net/airlines/T/1 <Response [200]>\n",
      "fetch indirizzo https://www.planespotters.net/airlines/T/2 <Response [200]>\n",
      "fetch indirizzo https://www.planespotters.net/airlines/T/3 <Response [200]>\n",
      "fetch indirizzo https://www.planespotters.net/airlines/T/4 <Response [200]>\n",
      "fetch indirizzo https://www.planespotters.net/airlines/U/1 <Response [200]>\n",
      "fetch indirizzo https://www.planespotters.net/airlines/V/1 <Response [200]>\n",
      "fetch indirizzo https://www.planespotters.net/airlines/V/2 <Response [200]>\n",
      "fetch indirizzo https://www.planespotters.net/airlines/W/1 <Response [200]>\n",
      "fetch indirizzo https://www.planespotters.net/airlines/W/2 <Response [200]>\n",
      "fetch indirizzo https://www.planespotters.net/airlines/X/1 <Response [200]>\n",
      "fetch indirizzo https://www.planespotters.net/airlines/Y/1 <Response [200]>\n",
      "fetch indirizzo https://www.planespotters.net/airlines/Z/1 <Response [200]>\n"
     ]
    }
   ],
   "source": [
    "#{'truth': 185.179993, 'day1': 197.22307753038834, 'day2': 197.26118010160317, 'day3': 197.19846975345905, 'day4': 197.1490578795196, 'day5': 197.37179265011116}\n",
    "\n",
    "alphabet = listAlphabet()\n",
    "alphabet.insert(0,9)\n",
    "column_names = []\n",
    "righe = []\n",
    "row_names = []\n",
    "\n",
    "def get_num_pages(url):\n",
    "    data = requests.get( url,headers = headers)\n",
    "    soup = BeautifulSoup(data.content, 'html.parser')\n",
    "    lista_num_pagine = []\n",
    "    page = soup.find(\"div\", {\"class\": \"pages\"})\n",
    "    if page == None:\n",
    "        return '1'\n",
    "    \n",
    "    for a in page.find_all('a', href=True):\n",
    "        lista_num_pagine.append(a.text)\n",
    "    \n",
    "    return lista_num_pagine[-1]\n",
    "        \n",
    "\n",
    "for lettera in alphabet:\n",
    "    num_pagine = get_num_pages('https://www.planespotters.net/airlines/{}'.format(lettera))\n",
    "    for pagina in range(1,int(num_pagine)+1):\n",
    "        url = 'https://www.planespotters.net/airlines/{}/{}'.format(lettera,pagina)\n",
    "        data = requests.get( url,headers = headers)\n",
    "        soup = BeautifulSoup(data.content, 'html.parser')\n",
    "        print('fetch indirizzo {} {}'.format(url,data))\n",
    "        for table in soup.find_all(\"div\", class_=\"datatable\"):\n",
    "            '''\n",
    "            for nome_colonna in table.find_all(\"div\", class_=\"dt-th\"):\n",
    "                column_names.append(nome_colonna.text)\n",
    "                #print(column_names)\n",
    "                pass\n",
    "            '''\n",
    "            for row in table.find_all(\"div\", class_=\"dt-tr\"):\n",
    "                #si mette qua senno ci somma tutte le righe, e noi dobbiamo azzerarlo ad ogni riga\n",
    "                #print('{}\\n\\n'.format(row))\n",
    "                pass\n",
    "\n",
    "                for colonna in row.find_all(\"div\", class_=\"dt-td\"):\n",
    "                    row_names.append(colonna.text)\n",
    "\n",
    "                righe.append(row_names)\n",
    "                row_names = []\n",
    "\n",
    "                #print('{}\\n'.format(colonna.text))\n",
    "            \n",
    "           \n",
    "                \n",
    "            #print('fine riga')\n",
    "\n",
    "        \n",
    "\n",
    "    #print('{}\\n{}'.format(url,data.content))"
   ]
  },
  {
   "cell_type": "code",
   "execution_count": 154,
   "id": "5115620a-43f1-468a-9cef-5cd4e0651684",
   "metadata": {},
   "outputs": [
    {
     "name": "stdout",
     "output_type": "stream",
     "text": [
      "originali = 5735\n",
      " altri5735\n"
     ]
    }
   ],
   "source": [
    "#2274\n",
    "count = 0\n",
    "for r in righe:\n",
    "    if len(r)==0:\n",
    "        count = count +1\n",
    "        \n",
    "print('originali = {}\\n altri{}'.format(len(righe),count + 5663))\n"
   ]
  },
  {
   "cell_type": "code",
   "execution_count": 149,
   "id": "9e12b351-1501-45f3-ac85-768c8eb056b5",
   "metadata": {
    "scrolled": true,
    "tags": []
   },
   "outputs": [
    {
     "data": {
      "text/html": [
       "<div>\n",
       "<style scoped>\n",
       "    .dataframe tbody tr th:only-of-type {\n",
       "        vertical-align: middle;\n",
       "    }\n",
       "\n",
       "    .dataframe tbody tr th {\n",
       "        vertical-align: top;\n",
       "    }\n",
       "\n",
       "    .dataframe thead th {\n",
       "        text-align: right;\n",
       "    }\n",
       "</style>\n",
       "<table border=\"1\" class=\"dataframe\">\n",
       "  <thead>\n",
       "    <tr style=\"text-align: right;\">\n",
       "      <th></th>\n",
       "      <th></th>\n",
       "      <th>Airline Name</th>\n",
       "      <th>Country</th>\n",
       "      <th>Fleet</th>\n",
       "      <th>Photos</th>\n",
       "    </tr>\n",
       "  </thead>\n",
       "  <tbody>\n",
       "    <tr>\n",
       "      <th>0</th>\n",
       "      <td></td>\n",
       "      <td>10 Tanker Air Carrier</td>\n",
       "      <td>United States</td>\n",
       "      <td>4</td>\n",
       "      <td>37</td>\n",
       "    </tr>\n",
       "    <tr>\n",
       "      <th>1</th>\n",
       "      <td></td>\n",
       "      <td>1Time</td>\n",
       "      <td>South Africa</td>\n",
       "      <td></td>\n",
       "      <td>44</td>\n",
       "    </tr>\n",
       "    <tr>\n",
       "      <th>2</th>\n",
       "      <td></td>\n",
       "      <td>21 Air</td>\n",
       "      <td>United States</td>\n",
       "      <td>8</td>\n",
       "      <td>39</td>\n",
       "    </tr>\n",
       "    <tr>\n",
       "      <th>3</th>\n",
       "      <td></td>\n",
       "      <td>2Excel Aviation</td>\n",
       "      <td>United Kingdom</td>\n",
       "      <td>3</td>\n",
       "      <td>63</td>\n",
       "    </tr>\n",
       "    <tr>\n",
       "      <th>4</th>\n",
       "      <td></td>\n",
       "      <td>360 Aviation Austria</td>\n",
       "      <td>Austria</td>\n",
       "      <td></td>\n",
       "      <td></td>\n",
       "    </tr>\n",
       "  </tbody>\n",
       "</table>\n",
       "</div>"
      ],
      "text/plain": [
       "              Airline Name         Country Fleet Photos\n",
       "0    10 Tanker Air Carrier   United States     4     37\n",
       "1                    1Time    South Africa           44\n",
       "2                   21 Air   United States     8     39\n",
       "3          2Excel Aviation  United Kingdom     3     63\n",
       "4     360 Aviation Austria         Austria             "
      ]
     },
     "execution_count": 149,
     "metadata": {},
     "output_type": "execute_result"
    }
   ],
   "source": [
    "intestazione = ['','Airline Name','Country','Fleet','Photos']\n",
    "df = pd.DataFrame(columns=intestazione)\n",
    "for r in righe:\n",
    "    if len(r)!=0:\n",
    "        r = [el.replace('\\n','') for el in  r]\n",
    "        df.loc[len(df)] = r\n",
    "\n",
    "df.head()"
   ]
  },
  {
   "cell_type": "code",
   "execution_count": 155,
   "id": "794f5995-63f2-476f-a828-fbf6a84d046e",
   "metadata": {},
   "outputs": [],
   "source": [
    "df.to_excel('laura.xlsx', index = False)\n"
   ]
  },
  {
   "cell_type": "code",
   "execution_count": null,
   "id": "378a395c-097f-4057-a2ef-bfc514ba9c5c",
   "metadata": {},
   "outputs": [],
   "source": []
  }
 ],
 "metadata": {
  "kernelspec": {
   "display_name": "Python 3 (ipykernel)",
   "language": "python",
   "name": "python3"
  },
  "language_info": {
   "codemirror_mode": {
    "name": "ipython",
    "version": 3
   },
   "file_extension": ".py",
   "mimetype": "text/x-python",
   "name": "python",
   "nbconvert_exporter": "python",
   "pygments_lexer": "ipython3",
   "version": "3.8.16"
  }
 },
 "nbformat": 4,
 "nbformat_minor": 5
}
