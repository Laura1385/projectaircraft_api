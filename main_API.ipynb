{
 "cells": [
  {
   "cell_type": "code",
   "execution_count": 121,
   "id": "2340ee86",
   "metadata": {},
   "outputs": [
    {
     "data": {
      "text/plain": [
       "str"
      ]
     },
     "execution_count": 121,
     "metadata": {},
     "output_type": "execute_result"
    }
   ],
   "source": [
    "type('INFORMATION/N.AIRCRAFT') "
   ]
  },
  {
   "cell_type": "code",
   "execution_count": 57,
   "id": "58379be1",
   "metadata": {},
   "outputs": [
    {
     "data": {
      "text/plain": [
       "str"
      ]
     },
     "execution_count": 57,
     "metadata": {},
     "output_type": "execute_result"
    }
   ],
   "source": [
    "type('AIRLINE') "
   ]
  },
  {
   "cell_type": "code",
   "execution_count": null,
   "id": "fe48ce53",
   "metadata": {},
   "outputs": [],
   "source": [
    "#pip install -r requirement.txt\n",
    "#pip install mlxtend\n",
    "#pip install xgboost\n",
    "#pip install pillow\n",
    "#pip install fake_useragent\n",
    "#pip install openpyxl"
   ]
  },
  {
   "cell_type": "code",
   "execution_count": null,
   "id": "aa4c82cf",
   "metadata": {},
   "outputs": [],
   "source": []
  },
  {
   "cell_type": "code",
   "execution_count": null,
   "id": "a4d28345",
   "metadata": {},
   "outputs": [],
   "source": [
    "import sys\n",
    "print(sys.executable)"
   ]
  },
  {
   "cell_type": "markdown",
   "id": "16cd1899",
   "metadata": {},
   "source": [
    "<h1 style=\"font-family:Calibri;color:black;font-size:197%;text-align:center\">The Art and Science of API Design:Crafting Connectivity in & out of Business </h1>\n",
    "\n",
    "<h1 style=\"font-family:Calibri;color:black;font-size:117%;text-align:center\">Master Data science - a.a. 2022-2023 \n",
    "Final Project</h1>\n",
    "\n",
    "<h1 style=\";font-family:Calibri;color:violet;font-size:170%;text-align:center;border-radius: px 50px;\"> student: Laura Proto </h1>"
   ]
  },
  {
   "cell_type": "markdown",
   "id": "84c316ae",
   "metadata": {},
   "source": [
    "<h1 style=\"background-color:#eaeaea;font-family:Calibri;color:#fe0b50;font-size:200%;text-align:center;border-radius: 50px;padding: 10px\">Parte pratica: Airlines Data</h1>"
   ]
  },
  {
   "cell_type": "code",
   "execution_count": null,
   "id": "bb2de56c",
   "metadata": {},
   "outputs": [],
   "source": [
    "from PIL import Image\n",
    "from IPython.display import display, HTML\n",
    "\n",
    "display(HTML(\"<div style='display:flex; justify-content:center;'><img src='aerei.jpg' style='max-width:70%;'></div>\"))"
   ]
  },
  {
   "cell_type": "markdown",
   "id": "b7b9850f",
   "metadata": {},
   "source": [
    "## Il Dataset\n",
    "\n",
    "Stroke is a serious medical condition that is the second leading cause of death worldwide, according to the World Health Organisation (WHO); it accounts for about 11% of all recorded deaths....\n",
    "\n",
    "\n",
    "*fonte: https://www.kaggle.com/datasets/fedesoriano/stroke-prediction-dataset\n"
   ]
  },
  {
   "cell_type": "markdown",
   "id": "5d64a743",
   "metadata": {},
   "source": [
    "<h1 style=\"background-color:#eaeaea;font-family:Calibri;color:orange;font-size:250%;text-align:center;border-radius:50px;padding:10px 30px;\">Index</h1>"
   ]
  },
  {
   "cell_type": "markdown",
   "id": "38a4c2f3",
   "metadata": {},
   "source": [
    "- [Libraries & Utilities](#1)\n",
    "- [Skyscanner's airlines list](#2)\n",
    "    - [Take data from site ](#2.1)\n",
    "    - [Analysis of values](#2.2)\n",
    "    - [Definition of the Data Transformation Pipeline](#2.3)\n",
    "- [Airfleets.net](#3)\n",
    "    - [Outcome](#3.1)\n",
    "    - [Refinement of the selected model](#3.2)\n",
    "    - [Learning curves & Validation curves](#3.3)\n",
    "- [Conclusions](#4)"
   ]
  },
  {
   "cell_type": "markdown",
   "id": "ae9ce150",
   "metadata": {},
   "source": [
    "<a id = '1'></a>\n",
    "<h1 style=\"background-color:#eaeaea;font-family:Calibri;color:blue;font-size:250%;text-align:center;border-radius:50px;padding:10px 30px;\">Libraries</h1>"
   ]
  },
  {
   "cell_type": "code",
   "execution_count": 30,
   "id": "ba4daecf",
   "metadata": {},
   "outputs": [],
   "source": [
    "import utils_API as ut\n",
    "\n",
    "import requests\n",
    "import time\n",
    "import random\n",
    "import json\n",
    "import pandas as pd\n",
    "import pickle\n",
    "import re\n",
    "\n",
    "from bs4 import BeautifulSoup\n",
    "from urllib.request import urlopen\n",
    "from fake_useragent import UserAgent \n",
    "from datetime import date\n",
    "\n",
    "import warnings\n",
    "warnings.filterwarnings('ignore')"
   ]
  },
  {
   "cell_type": "markdown",
   "id": "eb7972a9",
   "metadata": {},
   "source": [
    "<a id = '2'></a>\n",
    "<h1 style=\"background-color:#eaeaea;font-family:Calibri;color:orange;font-size:250%;text-align:center;border-radius: 50px;padding:10px 30px\">Skyscanner.it airlines list</h1>"
   ]
  },
  {
   "cell_type": "markdown",
   "id": "4a972075",
   "metadata": {},
   "source": [
    "<a id = '2.1'></a>\n",
    "<h1 style=\"font-size: 150%;\">Take data from site </h1>"
   ]
  },
  {
   "cell_type": "code",
   "execution_count": 31,
   "id": "9aea2cca",
   "metadata": {},
   "outputs": [
    {
     "name": "stdout",
     "output_type": "stream",
     "text": [
      "https://www.skyscanner.it/sitemap/voli-tutte-le-compagnie-aeree?page=1\n",
      "https://www.skyscanner.it/sitemap/voli-tutte-le-compagnie-aeree?page=2\n",
      "https://www.skyscanner.it/sitemap/voli-tutte-le-compagnie-aeree?page=3\n",
      "1406\n"
     ]
    }
   ],
   "source": [
    "ua = UserAgent()\n",
    "ua.random\n",
    "\n",
    "linee_aeree = []\n",
    "\n",
    "#adesso ricerchi nei tag che hai memorizzato in soup, tutti quelli di tipo href\n",
    "for page in range(1,999):\n",
    "    crescita = 0\n",
    "    url_al= 'https://www.skyscanner.it/sitemap/voli-tutte-le-compagnie-aeree?page={}'.format(page)\n",
    "    print(url_al)\n",
    "    #request scarica l'url e ha delle opzioni per passare ulteriori info, comme lo user agent attraverso gli heders di richiesta pagina\n",
    "    data = requests.get(url_al,headers = {'User-Agent':'{}'.format(ua.random)})\n",
    "    #adesso che hai scaricato la pagina, usi bs4 per fare il parse dei tag html\n",
    "    soup = BeautifulSoup(data.content, 'html.parser')\n",
    "    for a in soup.find_all('a', href=True):\n",
    "        #visto che ti ritorna ogni tipo di link, fai un filtro sul loro indirizzo (a.get('href')) per selezionare solo le commpagnie aeree\n",
    "        if 'linea-aerea' in a.get('href'):\n",
    "            #print(\"{}\".format(a.text) )\n",
    "            #print(\"Found the URL:{}\\n{}\".format(a.get('href'),a.text) )\n",
    "            #print(\"{}\".format(a.text) )\n",
    "            linee_aeree.append(a.text.replace('Voli ',''))\n",
    "            crescita = 1\n",
    "    if crescita == 0:\n",
    "        break\n",
    "\n",
    "print(len(linee_aeree))"
   ]
  },
  {
   "cell_type": "code",
   "execution_count": 32,
   "id": "af5e8d71",
   "metadata": {},
   "outputs": [
    {
     "data": {
      "text/html": [
       "<div>\n",
       "<style scoped>\n",
       "    .dataframe tbody tr th:only-of-type {\n",
       "        vertical-align: middle;\n",
       "    }\n",
       "\n",
       "    .dataframe tbody tr th {\n",
       "        vertical-align: top;\n",
       "    }\n",
       "\n",
       "    .dataframe thead th {\n",
       "        text-align: right;\n",
       "    }\n",
       "</style>\n",
       "<table border=\"1\" class=\"dataframe\">\n",
       "  <thead>\n",
       "    <tr style=\"text-align: right;\">\n",
       "      <th></th>\n",
       "      <th>AIRLINE</th>\n",
       "    </tr>\n",
       "  </thead>\n",
       "  <tbody>\n",
       "    <tr>\n",
       "      <th>95</th>\n",
       "      <td>40-Mile Air</td>\n",
       "    </tr>\n",
       "    <tr>\n",
       "      <th>664</th>\n",
       "      <td>748 Air Services</td>\n",
       "    </tr>\n",
       "    <tr>\n",
       "      <th>234</th>\n",
       "      <td>9 Air</td>\n",
       "    </tr>\n",
       "    <tr>\n",
       "      <th>499</th>\n",
       "      <td>AB Aviation</td>\n",
       "    </tr>\n",
       "    <tr>\n",
       "      <th>796</th>\n",
       "      <td>AIS Airlines</td>\n",
       "    </tr>\n",
       "  </tbody>\n",
       "</table>\n",
       "</div>"
      ],
      "text/plain": [
       "              AIRLINE\n",
       "95        40-Mile Air\n",
       "664  748 Air Services\n",
       "234             9 Air\n",
       "499       AB Aviation\n",
       "796      AIS Airlines"
      ]
     },
     "execution_count": 32,
     "metadata": {},
     "output_type": "execute_result"
    }
   ],
   "source": [
    "#create df \n",
    "len(linee_aeree)\n",
    "heading = ['AIRLINE']\n",
    "df_sky = pd.DataFrame(columns=heading)\n",
    "for r in linee_aeree:\n",
    "    if len(r)!=0:\n",
    "        df_sky.loc[len(df_sky)] = r\n",
    "df_sky_sorted = df_sky.sort_values(by='AIRLINE')\n",
    "df_sky_sorted.head()"
   ]
  },
  {
   "cell_type": "code",
   "execution_count": 33,
   "id": "d9e597ae",
   "metadata": {},
   "outputs": [
    {
     "name": "stdout",
     "output_type": "stream",
     "text": [
      "Website skyscanner.it:\n",
      "- Airlines total: 1406\n",
      "- Unique row: 1387\n",
      "- Duplicate rows: 19\n"
     ]
    }
   ],
   "source": [
    "#check & count rows\n",
    "print(\"Website skyscanner.it:\")\n",
    "\n",
    "df_num_s = len(df_sky)\n",
    "print(f\"- Airlines total: {df_num_s}\")      \n",
    "\n",
    "df_sky_unique = len(df_sky_sorted.drop_duplicates())\n",
    "print(f\"- Unique row: {df_sky_unique}\")\n",
    "\n",
    "sky_nrows_double = len(df_sky_sorted) - len(df_sky_sorted.drop_duplicates())\n",
    "print(f\"- Duplicate rows: {sky_nrows_double}\")\n",
    "\n",
    "#- Airlines total: 1406\n",
    "#- Unique row: 1387\n",
    "#- Duplicate rows: 19"
   ]
  },
  {
   "cell_type": "code",
   "execution_count": 34,
   "id": "f6d5b570",
   "metadata": {},
   "outputs": [],
   "source": [
    "#export to excell\n",
    "df_sky_no_duplicates = df_sky_sorted.drop_duplicates()\n",
    "df_sky_no_duplicates.to_excel(\"df_skyscanners_clean.xlsx\", index=False)"
   ]
  },
  {
   "cell_type": "markdown",
   "id": "5f05ddee",
   "metadata": {},
   "source": [
    "<a id = '3'></a>\n",
    "<h1 style=\"background-color:#eaeaea;font-family:Calibri;color:green;font-size:250%;text-align:center;border-radius: 50px;padding:10px 30px\">Airfleets.net data</h1>"
   ]
  },
  {
   "cell_type": "markdown",
   "id": "a768ce7c",
   "metadata": {},
   "source": [
    "<a id = '2.1'></a>\n",
    "<h1 style=\"font-size: 150%;\">Take data from site </h1>"
   ]
  },
  {
   "cell_type": "code",
   "execution_count": 35,
   "id": "39a0c0ea",
   "metadata": {},
   "outputs": [],
   "source": [
    "#create random headers\n",
    "list_headers = [{'User-Agent': 'Mozilla/5.0 (Macintosh; Intel Mac OS X 10_10_1) AppleWebKit/537.36 (KHTML, like Gecko) Chrome/39.0.2171.95 Safari/537.36'},{\"User-Agent\": \"Mozilla/5.0 (Windows NT 10.0; WOW64) AppleWebKit/537.36 (KHTML, like Gecko) Chrome/109.0.0.0 Safari/537.36\"},{'User-Agent': 'Mozilla/5.0 (Windows NT 5.1) AppleWebKit/535.1 (KHTML, like Gecko) Chrome/13.0.782.41 Safari/535.1'}]\n",
    "headers = random.choice(list_headers)\n",
    "ua = UserAgent()"
   ]
  },
  {
   "cell_type": "code",
   "execution_count": 36,
   "id": "aeb3f53d",
   "metadata": {},
   "outputs": [
    {
     "name": "stdout",
     "output_type": "stream",
     "text": [
      "Good Job!: <Response [200]>\n"
     ]
    }
   ],
   "source": [
    "#ping site web\n",
    "ua = UserAgent()\n",
    "\n",
    "#recall def from utils_API.py\n",
    "headers = ut.gen_random_headers()\n",
    "url = 'https://www.airfleets.net/recherche/list-airline-a.htm'\n",
    "data = requests.get(url, headers=headers)\n",
    "\n",
    "if data.status_code == 200:\n",
    "    print(f\"Good Job!: {data}\")\n",
    "else:\n",
    "     print(f\"pistù :( {data} \\n429 too many request \\n403 forbidden\")"
   ]
  },
  {
   "cell_type": "code",
   "execution_count": 37,
   "id": "ba6af2be",
   "metadata": {},
   "outputs": [
    {
     "name": "stdout",
     "output_type": "stream",
     "text": [
      "['a', 'b', 'c', 'd', 'e', 'f', 'g', 'h', 'i', 'j', 'k', 'l', 'm', 'n', 'o', 'p', 'q', 'r', 's', 't', 'u', 'v', 'w', 'x', 'y', 'z']\n"
     ]
    }
   ],
   "source": [
    "#recall def from utils_API.py for dowload data\n",
    "print(ut.listAlphabet())"
   ]
  },
  {
   "cell_type": "code",
   "execution_count": 38,
   "id": "569a0db6",
   "metadata": {},
   "outputs": [
    {
     "name": "stdout",
     "output_type": "stream",
     "text": [
      "<Response [200]>\n",
      "<a class=\"page2\">Page 1/44 </a>\n"
     ]
    }
   ],
   "source": [
    "ut.get_num_pages(url) #se stacchi la def in un altro blocco il codice non funziona\n",
    "alphabet = ut.listAlphabet()\n",
    "rows = []\n",
    "row_names = []"
   ]
  },
  {
   "cell_type": "code",
   "execution_count": 40,
   "id": "a3416cea",
   "metadata": {
    "scrolled": false
   },
   "outputs": [
    {
     "name": "stdout",
     "output_type": "stream",
     "text": [
      "https://www.airfleets.net/recherche/list-airline-n.htm\n",
      "<Response [200]>\n",
      "<a class=\"page2\">Page 1/8 </a>\n",
      "Page 1/8 \n",
      "fetch indirizzo https://www.airfleets.net/recherche/list-airline-n_0.htm <Response [200]>\n",
      "fetch indirizzo https://www.airfleets.net/recherche/list-airline-n_20.htm <Response [200]>\n",
      "fetch indirizzo https://www.airfleets.net/recherche/list-airline-n_40.htm <Response [200]>\n",
      "fetch indirizzo https://www.airfleets.net/recherche/list-airline-n_60.htm <Response [200]>\n",
      "fetch indirizzo https://www.airfleets.net/recherche/list-airline-n_80.htm <Response [200]>\n",
      "fetch indirizzo https://www.airfleets.net/recherche/list-airline-n_100.htm <Response [200]>\n",
      "fetch indirizzo https://www.airfleets.net/recherche/list-airline-n_120.htm <Response [200]>\n",
      "fetch indirizzo https://www.airfleets.net/recherche/list-airline-n_140.htm <Response [200]>\n",
      "Prepariamo eliminazione lettera n\n",
      "https://www.airfleets.net/recherche/list-airline-o.htm\n",
      "<Response [200]>\n",
      "<a class=\"page2\">Page 1/4 </a>\n",
      "Page 1/4 \n",
      "fetch indirizzo https://www.airfleets.net/recherche/list-airline-o_0.htm <Response [200]>\n",
      "fetch indirizzo https://www.airfleets.net/recherche/list-airline-o_20.htm <Response [200]>\n",
      "fetch indirizzo https://www.airfleets.net/recherche/list-airline-o_40.htm <Response [200]>\n",
      "fetch indirizzo https://www.airfleets.net/recherche/list-airline-o_60.htm <Response [200]>\n",
      "Prepariamo eliminazione lettera o\n",
      "https://www.airfleets.net/recherche/list-airline-p.htm\n",
      "<Response [200]>\n",
      "<a class=\"page2\">Page 1/9 </a>\n",
      "Page 1/9 \n",
      "fetch indirizzo https://www.airfleets.net/recherche/list-airline-p_0.htm <Response [200]>\n",
      "fetch indirizzo https://www.airfleets.net/recherche/list-airline-p_20.htm <Response [200]>\n",
      "fetch indirizzo https://www.airfleets.net/recherche/list-airline-p_40.htm <Response [200]>\n",
      "fetch indirizzo https://www.airfleets.net/recherche/list-airline-p_60.htm <Response [200]>\n",
      "fetch indirizzo https://www.airfleets.net/recherche/list-airline-p_80.htm <Response [200]>\n",
      "fetch indirizzo https://www.airfleets.net/recherche/list-airline-p_100.htm <Response [200]>\n",
      "fetch indirizzo https://www.airfleets.net/recherche/list-airline-p_120.htm <Response [200]>\n",
      "fetch indirizzo https://www.airfleets.net/recherche/list-airline-p_140.htm <Response [200]>\n",
      "fetch indirizzo https://www.airfleets.net/recherche/list-airline-p_160.htm <Response [200]>\n",
      "Prepariamo eliminazione lettera p\n",
      "https://www.airfleets.net/recherche/list-airline-q.htm\n",
      "<Response [200]>\n",
      "<a class=\"page2\">Page 1/1 </a>\n",
      "Page 1/1 \n",
      "fetch indirizzo https://www.airfleets.net/recherche/list-airline-q_0.htm <Response [200]>\n",
      "Prepariamo eliminazione lettera q\n",
      "https://www.airfleets.net/recherche/list-airline-r.htm\n",
      "<Response [200]>\n",
      "<a class=\"page2\">Page 1/7 </a>\n",
      "Page 1/7 \n",
      "fetch indirizzo https://www.airfleets.net/recherche/list-airline-r_0.htm <Response [200]>\n",
      "fetch indirizzo https://www.airfleets.net/recherche/list-airline-r_20.htm <Response [200]>\n",
      "fetch indirizzo https://www.airfleets.net/recherche/list-airline-r_40.htm <Response [200]>\n",
      "fetch indirizzo https://www.airfleets.net/recherche/list-airline-r_60.htm <Response [200]>\n",
      "fetch indirizzo https://www.airfleets.net/recherche/list-airline-r_80.htm <Response [200]>\n",
      "fetch indirizzo https://www.airfleets.net/recherche/list-airline-r_100.htm <Response [200]>\n",
      "fetch indirizzo https://www.airfleets.net/recherche/list-airline-r_120.htm <Response [200]>\n",
      "Prepariamo eliminazione lettera r\n",
      "https://www.airfleets.net/recherche/list-airline-s.htm\n",
      "<Response [200]>\n",
      "<a class=\"page2\">Page 1/21 </a>\n",
      "Page 1/21 \n",
      "fetch indirizzo https://www.airfleets.net/recherche/list-airline-s_0.htm <Response [200]>\n",
      "fetch indirizzo https://www.airfleets.net/recherche/list-airline-s_20.htm <Response [200]>\n",
      "fetch indirizzo https://www.airfleets.net/recherche/list-airline-s_40.htm <Response [200]>\n",
      "fetch indirizzo https://www.airfleets.net/recherche/list-airline-s_60.htm <Response [200]>\n",
      "fetch indirizzo https://www.airfleets.net/recherche/list-airline-s_80.htm <Response [200]>\n",
      "fetch indirizzo https://www.airfleets.net/recherche/list-airline-s_100.htm <Response [200]>\n",
      "fetch indirizzo https://www.airfleets.net/recherche/list-airline-s_120.htm <Response [200]>\n",
      "fetch indirizzo https://www.airfleets.net/recherche/list-airline-s_140.htm <Response [200]>\n",
      "fetch indirizzo https://www.airfleets.net/recherche/list-airline-s_160.htm <Response [200]>\n",
      "fetch indirizzo https://www.airfleets.net/recherche/list-airline-s_180.htm <Response [200]>\n",
      "fetch indirizzo https://www.airfleets.net/recherche/list-airline-s_200.htm <Response [200]>\n",
      "fetch indirizzo https://www.airfleets.net/recherche/list-airline-s_220.htm <Response [200]>\n",
      "fetch indirizzo https://www.airfleets.net/recherche/list-airline-s_240.htm <Response [200]>\n",
      "fetch indirizzo https://www.airfleets.net/recherche/list-airline-s_260.htm <Response [200]>\n",
      "fetch indirizzo https://www.airfleets.net/recherche/list-airline-s_280.htm <Response [200]>\n",
      "fetch indirizzo https://www.airfleets.net/recherche/list-airline-s_300.htm <Response [200]>\n",
      "fetch indirizzo https://www.airfleets.net/recherche/list-airline-s_320.htm <Response [200]>\n",
      "fetch indirizzo https://www.airfleets.net/recherche/list-airline-s_340.htm <Response [200]>\n",
      "fetch indirizzo https://www.airfleets.net/recherche/list-airline-s_360.htm <Response [200]>\n",
      "fetch indirizzo https://www.airfleets.net/recherche/list-airline-s_380.htm <Response [200]>\n",
      "fetch indirizzo https://www.airfleets.net/recherche/list-airline-s_400.htm <Response [200]>\n",
      "Prepariamo eliminazione lettera s\n",
      "https://www.airfleets.net/recherche/list-airline-t.htm\n",
      "<Response [200]>\n",
      "<a class=\"page2\">Page 1/12 </a>\n",
      "Page 1/12 \n",
      "fetch indirizzo https://www.airfleets.net/recherche/list-airline-t_0.htm <Response [200]>\n",
      "fetch indirizzo https://www.airfleets.net/recherche/list-airline-t_20.htm <Response [200]>\n",
      "fetch indirizzo https://www.airfleets.net/recherche/list-airline-t_40.htm <Response [200]>\n",
      "fetch indirizzo https://www.airfleets.net/recherche/list-airline-t_60.htm <Response [200]>\n",
      "fetch indirizzo https://www.airfleets.net/recherche/list-airline-t_80.htm <Response [200]>\n",
      "fetch indirizzo https://www.airfleets.net/recherche/list-airline-t_100.htm <Response [200]>\n",
      "fetch indirizzo https://www.airfleets.net/recherche/list-airline-t_120.htm <Response [200]>\n",
      "fetch indirizzo https://www.airfleets.net/recherche/list-airline-t_140.htm <Response [200]>\n",
      "fetch indirizzo https://www.airfleets.net/recherche/list-airline-t_160.htm <Response [200]>\n",
      "fetch indirizzo https://www.airfleets.net/recherche/list-airline-t_180.htm <Response [200]>\n",
      "fetch indirizzo https://www.airfleets.net/recherche/list-airline-t_200.htm <Response [200]>\n",
      "fetch indirizzo https://www.airfleets.net/recherche/list-airline-t_220.htm <Response [200]>\n",
      "Prepariamo eliminazione lettera t\n",
      "https://www.airfleets.net/recherche/list-airline-u.htm\n",
      "<Response [200]>\n",
      "<a class=\"page2\">Page 1/3 </a>\n",
      "Page 1/3 \n",
      "fetch indirizzo https://www.airfleets.net/recherche/list-airline-u_0.htm <Response [200]>\n",
      "fetch indirizzo https://www.airfleets.net/recherche/list-airline-u_20.htm <Response [200]>\n",
      "fetch indirizzo https://www.airfleets.net/recherche/list-airline-u_40.htm <Response [200]>\n",
      "Prepariamo eliminazione lettera u\n",
      "https://www.airfleets.net/recherche/list-airline-v.htm\n",
      "<Response [200]>\n",
      "<a class=\"page2\">Page 1/5 </a>\n",
      "Page 1/5 \n",
      "fetch indirizzo https://www.airfleets.net/recherche/list-airline-v_0.htm <Response [200]>\n",
      "fetch indirizzo https://www.airfleets.net/recherche/list-airline-v_20.htm <Response [200]>\n",
      "fetch indirizzo https://www.airfleets.net/recherche/list-airline-v_40.htm <Response [200]>\n",
      "fetch indirizzo https://www.airfleets.net/recherche/list-airline-v_60.htm <Response [200]>\n",
      "fetch indirizzo https://www.airfleets.net/recherche/list-airline-v_80.htm <Response [200]>\n",
      "Prepariamo eliminazione lettera v\n",
      "https://www.airfleets.net/recherche/list-airline-w.htm\n",
      "<Response [200]>\n",
      "<a class=\"page2\">Page 1/4 </a>\n",
      "Page 1/4 \n",
      "fetch indirizzo https://www.airfleets.net/recherche/list-airline-w_0.htm <Response [200]>\n",
      "fetch indirizzo https://www.airfleets.net/recherche/list-airline-w_20.htm <Response [200]>\n",
      "fetch indirizzo https://www.airfleets.net/recherche/list-airline-w_40.htm <Response [200]>\n",
      "fetch indirizzo https://www.airfleets.net/recherche/list-airline-w_60.htm <Response [200]>\n",
      "Prepariamo eliminazione lettera w\n",
      "https://www.airfleets.net/recherche/list-airline-x.htm\n"
     ]
    },
    {
     "name": "stdout",
     "output_type": "stream",
     "text": [
      "<Response [200]>\n",
      "<a class=\"page2\">Page 1/1 </a>\n",
      "Page 1/1 \n",
      "fetch indirizzo https://www.airfleets.net/recherche/list-airline-x_0.htm <Response [200]>\n",
      "Prepariamo eliminazione lettera x\n",
      "https://www.airfleets.net/recherche/list-airline-y.htm\n",
      "<Response [200]>\n",
      "<a class=\"page2\">Page 1/1 </a>\n",
      "Page 1/1 \n",
      "fetch indirizzo https://www.airfleets.net/recherche/list-airline-y_0.htm <Response [200]>\n",
      "Prepariamo eliminazione lettera y\n",
      "https://www.airfleets.net/recherche/list-airline-z.htm\n",
      "<Response [200]>\n",
      "<a class=\"page2\">Page 1/2 </a>\n",
      "Page 1/2 \n",
      "fetch indirizzo https://www.airfleets.net/recherche/list-airline-z_0.htm <Response [200]>\n",
      "fetch indirizzo https://www.airfleets.net/recherche/list-airline-z_20.htm <Response [200]>\n",
      "Prepariamo eliminazione lettera z\n",
      "\n",
      "All letters have been taken!\n"
     ]
    }
   ],
   "source": [
    "#recall def from utils_API.py for create lowercase alphabet\n",
    "while(len(alphabet) > 0):\n",
    "    \n",
    "    print('https://www.airfleets.net/recherche/list-airline-{}.htm'.format(alphabet[0]))\n",
    "    num_pagine = ut.get_num_pages('https://www.airfleets.net/recherche/list-airline-{}.htm'.format(alphabet[0]))\n",
    "    print(num_pagine)\n",
    "    num_pagine = num_pagine.split('/')[1]\n",
    "    \n",
    "    for pagina in range(1,int(num_pagine)+1):\n",
    "        url =''\n",
    "        if pagina == 1:\n",
    "            url = 'https://www.airfleets.net/recherche/list-airline-{}_0.htm'.format(alphabet[0])\n",
    "        else:\n",
    "            url = 'https://www.airfleets.net/recherche/list-airline-{}_{}.htm'.format(alphabet[0],(pagina-1)*20)\n",
    "        data = requests.get( url,headers = {'User-Agent':'{}'.format(ua.random)})\n",
    "        soup = BeautifulSoup(data.content, 'html.parser')\n",
    "        print('fetch indirizzo {} {}'.format(url,data))\n",
    "        \n",
    "        for table in soup.find_all(\"table\", class_=\"tablestd\"):\n",
    "            for row in table.find_all(\"tr\", class_=\"tabcontent\"):\n",
    "                for colonna in row.find_all(\"td\"):\n",
    "                    row_names.append(colonna.text)\n",
    "                    #print(row_names)\n",
    "                #print('fine row')\n",
    "\n",
    "                rows.append(row_names)\n",
    "                row_names = []\n",
    "        #time.sleep(1)\n",
    "    print('Prepariamo eliminazione lettera {}'.format(alphabet[0]))\n",
    "    alphabet.pop(0)\n",
    "                                                                \n",
    "                                                                                                                  \n",
    "print(\"\\nAll letters have been taken!\")"
   ]
  },
  {
   "cell_type": "code",
   "execution_count": 41,
   "id": "508b0643",
   "metadata": {},
   "outputs": [
    {
     "data": {
      "text/plain": [
       "7553"
      ]
     },
     "execution_count": 41,
     "metadata": {},
     "output_type": "execute_result"
    }
   ],
   "source": [
    "len(rows)\n",
    "#7365 definitivo"
   ]
  },
  {
   "cell_type": "code",
   "execution_count": 42,
   "id": "846d55cd",
   "metadata": {},
   "outputs": [],
   "source": [
    "#create pkl file\n",
    "today = date.today()\n",
    "\n",
    "tosave = [row]\n",
    "with open('saved_{}.pkl'.format(today), 'wb') as file:\n",
    "    # A new file will be created\n",
    "    pickle.dump(tosave, file)\n",
    "file = open('saved_2023-09-05.pkl', 'rb')\n",
    "tosave = pickle.load(file)\n",
    "file.close()"
   ]
  },
  {
   "cell_type": "code",
   "execution_count": 123,
   "id": "5221ce32",
   "metadata": {},
   "outputs": [
    {
     "data": {
      "text/html": [
       "<div>\n",
       "<style scoped>\n",
       "    .dataframe tbody tr th:only-of-type {\n",
       "        vertical-align: middle;\n",
       "    }\n",
       "\n",
       "    .dataframe tbody tr th {\n",
       "        vertical-align: top;\n",
       "    }\n",
       "\n",
       "    .dataframe thead th {\n",
       "        text-align: right;\n",
       "    }\n",
       "</style>\n",
       "<table border=\"1\" class=\"dataframe\">\n",
       "  <thead>\n",
       "    <tr style=\"text-align: right;\">\n",
       "      <th></th>\n",
       "      <th>AIRLINE</th>\n",
       "      <th>COUNTRY</th>\n",
       "      <th>INFORMATION/N.AIRCRAFT</th>\n",
       "    </tr>\n",
       "  </thead>\n",
       "  <tbody>\n",
       "    <tr>\n",
       "      <th>0</th>\n",
       "      <td>AB Airlines</td>\n",
       "      <td>United Kingdom</td>\n",
       "      <td>inactive (with supported aircraft)</td>\n",
       "    </tr>\n",
       "    <tr>\n",
       "      <th>1</th>\n",
       "      <td>Aba Air</td>\n",
       "      <td>Czech Republic</td>\n",
       "      <td>inactive (with supported aircraft)</td>\n",
       "    </tr>\n",
       "    <tr>\n",
       "      <th>2</th>\n",
       "      <td>ABC Air Hungary</td>\n",
       "      <td>Hungary</td>\n",
       "      <td>inactive (with supported aircraft)</td>\n",
       "    </tr>\n",
       "    <tr>\n",
       "      <th>3</th>\n",
       "      <td>Abelag Airways</td>\n",
       "      <td>Belgium</td>\n",
       "      <td>inactive (with supported aircraft)</td>\n",
       "    </tr>\n",
       "    <tr>\n",
       "      <th>4</th>\n",
       "      <td>ABS Jets</td>\n",
       "      <td>Czech Republic</td>\n",
       "      <td>4</td>\n",
       "    </tr>\n",
       "  </tbody>\n",
       "</table>\n",
       "</div>"
      ],
      "text/plain": [
       "           AIRLINE         COUNTRY              INFORMATION/N.AIRCRAFT\n",
       "0      AB Airlines  United Kingdom  inactive (with supported aircraft)\n",
       "1          Aba Air  Czech Republic  inactive (with supported aircraft)\n",
       "2  ABC Air Hungary         Hungary  inactive (with supported aircraft)\n",
       "3   Abelag Airways         Belgium  inactive (with supported aircraft)\n",
       "4         ABS Jets  Czech Republic                                   4"
      ]
     },
     "execution_count": 123,
     "metadata": {},
     "output_type": "execute_result"
    }
   ],
   "source": [
    "#create df airfleets\n",
    "len(rows)\n",
    "heading = ['AIRLINE','IMgG','COUNTRY','INFORMATION/N.AIRCRAFT']\n",
    "df_af = pd.DataFrame(columns=heading)\n",
    "for r in rows:\n",
    "    if len(r)!=0:\n",
    "        r = [el.replace('\\n','') for el in  r]\n",
    "        df_af.loc[len(df_af)] = r\n",
    "\n",
    "#delete coloumn ImgG\n",
    "df_af = df_af.drop(columns=['IMgG']) \n",
    "\n",
    "#delete empty space before and after string\n",
    "df_af[['INFORMATION/N.AIRCRAFT', 'COUNTRY', 'AIRLINE']] = df_af[['INFORMATION/N.AIRCRAFT', 'COUNTRY', 'AIRLINE']].applymap(str.strip)\n",
    "\n",
    "#def to delete the word\"aircraft\" from row with a number (es: '3 aircraft')\n",
    "def remove_aircraft(text):\n",
    "    if re.match(r'\\d+\\s+aircraft', text):\n",
    "        return re.sub(r'\\s*aircraft', '', text)\n",
    "    else:\n",
    "        return text\n",
    "#appliad def to 'INFORMATION/N.AIRCRAFT' coloumn\n",
    "df_af['INFORMATION/N.AIRCRAFT'] = df_af['INFORMATION/N.AIRCRAFT'].apply(remove_aircraft)\n",
    "\n",
    "df_af.head()"
   ]
  },
  {
   "cell_type": "code",
   "execution_count": 69,
   "id": "b10b49fa",
   "metadata": {},
   "outputs": [
    {
     "name": "stdout",
     "output_type": "stream",
     "text": [
      "Website airfleets.net:\n",
      "- Airlines total: 7553\n",
      "- Unique row: 4031\n",
      "- Duplicates rows: 3522\n"
     ]
    }
   ],
   "source": [
    "#check & countrows\n",
    "print(\"Website airfleets.net:\")\n",
    "\n",
    "df_num = len(df_af)\n",
    "print(f\"- Airlines total: {df_num}\")      \n",
    " \n",
    "df_af_unique = len(df_af.drop_duplicates())\n",
    "print(f\"- Unique row: {df_af_unique}\")\n",
    "\n",
    "df_af_nrows_double = len(df_af) - len(df_af.drop_duplicates()) #totali-univoci\n",
    "print(f\"- Duplicates rows: {df_af_nrows_double}\")\n",
    "\n",
    "#- Airlines total: 7553\n",
    "#- Unique row: 4031\n",
    "#- Duplicates rows: 3522"
   ]
  },
  {
   "cell_type": "code",
   "execution_count": 124,
   "id": "e03eaddf",
   "metadata": {},
   "outputs": [],
   "source": [
    "#delete duplicates rows\n",
    "df_no_duplicates = df_af.drop_duplicates()"
   ]
  },
  {
   "cell_type": "code",
   "execution_count": 148,
   "id": "e38eab5f",
   "metadata": {},
   "outputs": [
    {
     "data": {
      "text/html": [
       "<div>\n",
       "<style scoped>\n",
       "    .dataframe tbody tr th:only-of-type {\n",
       "        vertical-align: middle;\n",
       "    }\n",
       "\n",
       "    .dataframe tbody tr th {\n",
       "        vertical-align: top;\n",
       "    }\n",
       "\n",
       "    .dataframe thead th {\n",
       "        text-align: right;\n",
       "    }\n",
       "</style>\n",
       "<table border=\"1\" class=\"dataframe\">\n",
       "  <thead>\n",
       "    <tr style=\"text-align: right;\">\n",
       "      <th></th>\n",
       "      <th>AIRLINE</th>\n",
       "      <th>COUNTRY</th>\n",
       "      <th>INFORMATION/N.AIRCRAFT</th>\n",
       "    </tr>\n",
       "  </thead>\n",
       "  <tbody>\n",
       "    <tr>\n",
       "      <th>0</th>\n",
       "      <td>AB Airlines</td>\n",
       "      <td>United Kingdom</td>\n",
       "      <td>inactive (with supported aircraft)</td>\n",
       "    </tr>\n",
       "    <tr>\n",
       "      <th>1</th>\n",
       "      <td>Aba Air</td>\n",
       "      <td>Czech Republic</td>\n",
       "      <td>inactive (with supported aircraft)</td>\n",
       "    </tr>\n",
       "    <tr>\n",
       "      <th>2</th>\n",
       "      <td>ABC Air Hungary</td>\n",
       "      <td>Hungary</td>\n",
       "      <td>inactive (with supported aircraft)</td>\n",
       "    </tr>\n",
       "    <tr>\n",
       "      <th>3</th>\n",
       "      <td>Abelag Airways</td>\n",
       "      <td>Belgium</td>\n",
       "      <td>inactive (with supported aircraft)</td>\n",
       "    </tr>\n",
       "    <tr>\n",
       "      <th>4</th>\n",
       "      <td>ABS Jets</td>\n",
       "      <td>Czech Republic</td>\n",
       "      <td>4</td>\n",
       "    </tr>\n",
       "    <tr>\n",
       "      <th>5</th>\n",
       "      <td>ABSA Cargo</td>\n",
       "      <td>Brazil</td>\n",
       "      <td>inactive (with supported aircraft)Renamed / Me...</td>\n",
       "    </tr>\n",
       "    <tr>\n",
       "      <th>6</th>\n",
       "      <td>Abu Dhabi Amiri Flight</td>\n",
       "      <td>United Arab Emirates</td>\n",
       "      <td>5</td>\n",
       "    </tr>\n",
       "    <tr>\n",
       "      <th>7</th>\n",
       "      <td>Abu Dhabi Aviation</td>\n",
       "      <td>United Arab Emirates</td>\n",
       "      <td>5</td>\n",
       "    </tr>\n",
       "    <tr>\n",
       "      <th>8</th>\n",
       "      <td>Abu Dhabi Gvmt</td>\n",
       "      <td>United Arab Emirates</td>\n",
       "      <td>inactive (with supported aircraft)</td>\n",
       "    </tr>\n",
       "    <tr>\n",
       "      <th>9</th>\n",
       "      <td>ABX Air</td>\n",
       "      <td>USA</td>\n",
       "      <td>26</td>\n",
       "    </tr>\n",
       "    <tr>\n",
       "      <th>10</th>\n",
       "      <td>Accessair</td>\n",
       "      <td>USA</td>\n",
       "      <td>inactive (with supported aircraft)</td>\n",
       "    </tr>\n",
       "    <tr>\n",
       "      <th>11</th>\n",
       "      <td>ACE Air Charter Express</td>\n",
       "      <td>USA</td>\n",
       "      <td>8</td>\n",
       "    </tr>\n",
       "    <tr>\n",
       "      <th>12</th>\n",
       "      <td>ACE Air Charters</td>\n",
       "      <td>Netherlands</td>\n",
       "      <td>inactive (with supported aircraft)</td>\n",
       "    </tr>\n",
       "    <tr>\n",
       "      <th>13</th>\n",
       "      <td>ACE Belgium Freighters</td>\n",
       "      <td>Belgium</td>\n",
       "      <td>inactive (with supported aircraft)Renamed / Me...</td>\n",
       "    </tr>\n",
       "    <tr>\n",
       "      <th>14</th>\n",
       "      <td>ACES Colombia</td>\n",
       "      <td>Colombia</td>\n",
       "      <td>inactive (with supported aircraft)</td>\n",
       "    </tr>\n",
       "    <tr>\n",
       "      <th>15</th>\n",
       "      <td>ACM Air Charter</td>\n",
       "      <td>Germany</td>\n",
       "      <td>1</td>\n",
       "    </tr>\n",
       "    <tr>\n",
       "      <th>16</th>\n",
       "      <td>Acropolis Aviation</td>\n",
       "      <td>United Kingdom</td>\n",
       "      <td>1</td>\n",
       "    </tr>\n",
       "    <tr>\n",
       "      <th>17</th>\n",
       "      <td>ACT Airlines</td>\n",
       "      <td>Turkey</td>\n",
       "      <td>4 Renamed / Merged to MyCargo Airlines</td>\n",
       "    </tr>\n",
       "  </tbody>\n",
       "</table>\n",
       "</div>"
      ],
      "text/plain": [
       "                    AIRLINE               COUNTRY  \\\n",
       "0               AB Airlines        United Kingdom   \n",
       "1                   Aba Air        Czech Republic   \n",
       "2           ABC Air Hungary               Hungary   \n",
       "3            Abelag Airways               Belgium   \n",
       "4                  ABS Jets        Czech Republic   \n",
       "5                ABSA Cargo                Brazil   \n",
       "6    Abu Dhabi Amiri Flight  United Arab Emirates   \n",
       "7        Abu Dhabi Aviation  United Arab Emirates   \n",
       "8            Abu Dhabi Gvmt  United Arab Emirates   \n",
       "9                   ABX Air                   USA   \n",
       "10                Accessair                   USA   \n",
       "11  ACE Air Charter Express                   USA   \n",
       "12         ACE Air Charters           Netherlands   \n",
       "13   ACE Belgium Freighters               Belgium   \n",
       "14            ACES Colombia              Colombia   \n",
       "15          ACM Air Charter               Germany   \n",
       "16       Acropolis Aviation        United Kingdom   \n",
       "17             ACT Airlines                Turkey   \n",
       "\n",
       "                               INFORMATION/N.AIRCRAFT  \n",
       "0                  inactive (with supported aircraft)  \n",
       "1                  inactive (with supported aircraft)  \n",
       "2                  inactive (with supported aircraft)  \n",
       "3                  inactive (with supported aircraft)  \n",
       "4                                                   4  \n",
       "5   inactive (with supported aircraft)Renamed / Me...  \n",
       "6                                                   5  \n",
       "7                                                   5  \n",
       "8                  inactive (with supported aircraft)  \n",
       "9                                                  26  \n",
       "10                 inactive (with supported aircraft)  \n",
       "11                                                  8  \n",
       "12                 inactive (with supported aircraft)  \n",
       "13  inactive (with supported aircraft)Renamed / Me...  \n",
       "14                 inactive (with supported aircraft)  \n",
       "15                                                  1  \n",
       "16                                                  1  \n",
       "17             4 Renamed / Merged to MyCargo Airlines  "
      ]
     },
     "execution_count": 148,
     "metadata": {},
     "output_type": "execute_result"
    }
   ],
   "source": [
    "#export to excell clean file\n",
    "df_no_duplicates.to_excel(\"df_airfleets_clean.xlsx\", index=False)\n",
    "#df_no_duplicates.to_json(\"df_airfleets_clean.json\", index=False)\n",
    "\n",
    "df_af_clean = pd.read_excel('df_airfleets_clean.xlsx')\n",
    "df_af_clean.head(18)"
   ]
  },
  {
   "cell_type": "code",
   "execution_count": 156,
   "id": "1bd36230",
   "metadata": {},
   "outputs": [
    {
     "name": "stdout",
     "output_type": "stream",
     "text": [
      "Numero di righe in INFORMATION/N.AIRCRAFT che:\n",
      "- Contengono solo il numero di aerei': 1284\n",
      "- Iniziano con un numero + 'Renamed / Merged to': 0\n",
      "- Contengono 'inactive (with supported aircraft)': 2158\n",
      "- Iniziano con 'inactive (with supported aircraft)Renamed / Merged to ': 589\n"
     ]
    },
    {
     "data": {
      "text/html": [
       "<div>\n",
       "<style scoped>\n",
       "    .dataframe tbody tr th:only-of-type {\n",
       "        vertical-align: middle;\n",
       "    }\n",
       "\n",
       "    .dataframe tbody tr th {\n",
       "        vertical-align: top;\n",
       "    }\n",
       "\n",
       "    .dataframe thead th {\n",
       "        text-align: right;\n",
       "    }\n",
       "</style>\n",
       "<table border=\"1\" class=\"dataframe\">\n",
       "  <thead>\n",
       "    <tr style=\"text-align: right;\">\n",
       "      <th></th>\n",
       "      <th>AIRLINE</th>\n",
       "      <th>COUNTRY</th>\n",
       "      <th>INFORMATION/N.AIRCRAFT</th>\n",
       "    </tr>\n",
       "  </thead>\n",
       "  <tbody>\n",
       "    <tr>\n",
       "      <th>0</th>\n",
       "      <td>AB Airlines</td>\n",
       "      <td>United Kingdom</td>\n",
       "      <td>inactive (with supported aircraft)</td>\n",
       "    </tr>\n",
       "    <tr>\n",
       "      <th>1</th>\n",
       "      <td>Aba Air</td>\n",
       "      <td>Czech Republic</td>\n",
       "      <td>inactive (with supported aircraft)</td>\n",
       "    </tr>\n",
       "    <tr>\n",
       "      <th>2</th>\n",
       "      <td>ABC Air Hungary</td>\n",
       "      <td>Hungary</td>\n",
       "      <td>inactive (with supported aircraft)</td>\n",
       "    </tr>\n",
       "    <tr>\n",
       "      <th>3</th>\n",
       "      <td>Abelag Airways</td>\n",
       "      <td>Belgium</td>\n",
       "      <td>inactive (with supported aircraft)</td>\n",
       "    </tr>\n",
       "    <tr>\n",
       "      <th>4</th>\n",
       "      <td>ABS Jets</td>\n",
       "      <td>Czech Republic</td>\n",
       "      <td>4</td>\n",
       "    </tr>\n",
       "  </tbody>\n",
       "</table>\n",
       "</div>"
      ],
      "text/plain": [
       "           AIRLINE         COUNTRY              INFORMATION/N.AIRCRAFT\n",
       "0      AB Airlines  United Kingdom  inactive (with supported aircraft)\n",
       "1          Aba Air  Czech Republic  inactive (with supported aircraft)\n",
       "2  ABC Air Hungary         Hungary  inactive (with supported aircraft)\n",
       "3   Abelag Airways         Belgium  inactive (with supported aircraft)\n",
       "4         ABS Jets  Czech Republic                                   4"
      ]
     },
     "execution_count": 156,
     "metadata": {},
     "output_type": "execute_result"
    }
   ],
   "source": [
    "print('Numero di righe in INFORMATION/N.AIRCRAFT che:')\n",
    "# - contengono solo un numero senza spazi\n",
    "count_rows_with_number = df_af_clean['INFORMATION/N.AIRCRAFT'].str.contains(r'^\\d+$').sum()\n",
    "print(f\"- Contengono solo il numero di aerei': {count_rows_with_number}\")\n",
    "\n",
    "# - contengono un numero + ' Renamed / Merged to '\n",
    "count_rows_matching_pattern = df_af_clean['INFORMATION/N.AIRCRAFT'].str.contains(r'^\\d+\\s+Renamed / Merged to ').sum()\n",
    "print(f\"- Iniziano con un numero + 'Renamed / Merged to': {count_rows_matching_pattern}\")\n",
    "\n",
    "# - contengono la frase 'inactive (with supported aircraft)'\n",
    "count_inactive_rows = (df_af_clean['INFORMATION/N.AIRCRAFT'] == 'inactive (with supported aircraft)').sum()\n",
    "print(f\"- Contengono 'inactive (with supported aircraft)': {count_inactive_rows}\")\n",
    "\n",
    "# - iniziano con la frase'inactive (with supported aircraft)Renamed / Merged to '\n",
    "count_rows_start_with_inactive = df_af_clean[df_af_clean['INFORMATION/N.AIRCRAFT'].str.startswith('inactive (with supported aircraft)Renamed / Merged to ')].shape[0]\n",
    "print(f\"- Iniziano con 'inactive (with supported aircraft)Renamed / Merged to ': {count_rows_start_with_inactive}\")\n",
    "\n",
    "df_af_clean.head()\n",
    "\n",
    "#- Contengono solo il numero di aerei': 1284\n",
    "#- Iniziano con un numero + 'Renamed / Merged to': 9\n",
    "#- Contengono 'inactive (with supported aircraft)': 2149\n",
    "#- Iniziano con 'inactive (with supported aircraft)Renamed / Merged to ': 589"
   ]
  },
  {
   "cell_type": "code",
   "execution_count": 158,
   "id": "4f50f149",
   "metadata": {},
   "outputs": [
    {
     "name": "stdout",
     "output_type": "stream",
     "text": [
      "Numero di righe in INFORMATION/N.AIRCRAFT che:\n",
      "- Contengono 'inactive (with supported aircraft)' ORA dovrebbero essere 2158: 2158\n"
     ]
    },
    {
     "data": {
      "text/html": [
       "<div>\n",
       "<style scoped>\n",
       "    .dataframe tbody tr th:only-of-type {\n",
       "        vertical-align: middle;\n",
       "    }\n",
       "\n",
       "    .dataframe tbody tr th {\n",
       "        vertical-align: top;\n",
       "    }\n",
       "\n",
       "    .dataframe thead th {\n",
       "        text-align: right;\n",
       "    }\n",
       "</style>\n",
       "<table border=\"1\" class=\"dataframe\">\n",
       "  <thead>\n",
       "    <tr style=\"text-align: right;\">\n",
       "      <th></th>\n",
       "      <th>AIRLINE</th>\n",
       "      <th>COUNTRY</th>\n",
       "      <th>INFORMATION/N.AIRCRAFT</th>\n",
       "    </tr>\n",
       "  </thead>\n",
       "  <tbody>\n",
       "    <tr>\n",
       "      <th>0</th>\n",
       "      <td>AB Airlines</td>\n",
       "      <td>United Kingdom</td>\n",
       "      <td>inactive (with supported aircraft)</td>\n",
       "    </tr>\n",
       "    <tr>\n",
       "      <th>1</th>\n",
       "      <td>Aba Air</td>\n",
       "      <td>Czech Republic</td>\n",
       "      <td>inactive (with supported aircraft)</td>\n",
       "    </tr>\n",
       "    <tr>\n",
       "      <th>2</th>\n",
       "      <td>ABC Air Hungary</td>\n",
       "      <td>Hungary</td>\n",
       "      <td>inactive (with supported aircraft)</td>\n",
       "    </tr>\n",
       "    <tr>\n",
       "      <th>3</th>\n",
       "      <td>Abelag Airways</td>\n",
       "      <td>Belgium</td>\n",
       "      <td>inactive (with supported aircraft)</td>\n",
       "    </tr>\n",
       "    <tr>\n",
       "      <th>4</th>\n",
       "      <td>ABS Jets</td>\n",
       "      <td>Czech Republic</td>\n",
       "      <td>4</td>\n",
       "    </tr>\n",
       "  </tbody>\n",
       "</table>\n",
       "</div>"
      ],
      "text/plain": [
       "           AIRLINE         COUNTRY              INFORMATION/N.AIRCRAFT\n",
       "0      AB Airlines  United Kingdom  inactive (with supported aircraft)\n",
       "1          Aba Air  Czech Republic  inactive (with supported aircraft)\n",
       "2  ABC Air Hungary         Hungary  inactive (with supported aircraft)\n",
       "3   Abelag Airways         Belgium  inactive (with supported aircraft)\n",
       "4         ABS Jets  Czech Republic                                   4"
      ]
     },
     "execution_count": 158,
     "metadata": {},
     "output_type": "execute_result"
    }
   ],
   "source": [
    "#per semplificare considero le 9 compagnie aeree i cui aerei \n",
    "#sono stati rinominati e assimilati a nuove compagnie aeree come inattive\n",
    "#sostitusco quindi i valori e rifaccio il conteggio\n",
    "\n",
    "#trovo le righe che iniziano con 'numero Renamed / Merged to'\n",
    "mask = df_af_clean['INFORMATION/N.AIRCRAFT'].str.contains(r'^\\d+\\s+Renamed / Merged to')\n",
    "\n",
    "#le sostituisco con 'inactive (with supported aircraft)'\n",
    "df_af_clean.loc[mask, 'INFORMATION/N.AIRCRAFT'] = 'inactive (with supported aircraft)'\n",
    "\n",
    "print('Numero di righe in INFORMATION/N.AIRCRAFT che:')\n",
    "# - contengono la frase 'inactive (with supported aircraft)'\n",
    "count_inactive_rows = (df_af_clean['INFORMATION/N.AIRCRAFT'] == 'inactive (with supported aircraft)').sum()\n",
    "print(f\"- Contengono 'inactive (with supported aircraft)' ORA dovrebbero essere 2158: {count_inactive_rows}\")\n",
    "\n",
    "df_af_clean.head()"
   ]
  },
  {
   "cell_type": "code",
   "execution_count": 159,
   "id": "2eb733fc",
   "metadata": {},
   "outputs": [],
   "source": [
    "#export to excell clean file\n",
    "df_af_clean.to_excel(\"df_airfleets_clean.xlsx\", index=False)\n",
    "df_af_clean.to_json(\"df_airfleets_clean.json\", index=False)"
   ]
  },
  {
   "cell_type": "code",
   "execution_count": 160,
   "id": "55a073f4",
   "metadata": {},
   "outputs": [
    {
     "data": {
      "text/html": [
       "<div>\n",
       "<style scoped>\n",
       "    .dataframe tbody tr th:only-of-type {\n",
       "        vertical-align: middle;\n",
       "    }\n",
       "\n",
       "    .dataframe tbody tr th {\n",
       "        vertical-align: top;\n",
       "    }\n",
       "\n",
       "    .dataframe thead th {\n",
       "        text-align: right;\n",
       "    }\n",
       "</style>\n",
       "<table border=\"1\" class=\"dataframe\">\n",
       "  <thead>\n",
       "    <tr style=\"text-align: right;\">\n",
       "      <th></th>\n",
       "      <th>AIRLINE</th>\n",
       "      <th>COUNTRY</th>\n",
       "      <th>INFORMATION/N.AIRCRAFT</th>\n",
       "    </tr>\n",
       "  </thead>\n",
       "  <tbody>\n",
       "    <tr>\n",
       "      <th>0</th>\n",
       "      <td>AB Airlines</td>\n",
       "      <td>United Kingdom</td>\n",
       "      <td>inactive (with supported aircraft)</td>\n",
       "    </tr>\n",
       "    <tr>\n",
       "      <th>1</th>\n",
       "      <td>Aba Air</td>\n",
       "      <td>Czech Republic</td>\n",
       "      <td>inactive (with supported aircraft)</td>\n",
       "    </tr>\n",
       "    <tr>\n",
       "      <th>2</th>\n",
       "      <td>ABC Air Hungary</td>\n",
       "      <td>Hungary</td>\n",
       "      <td>inactive (with supported aircraft)</td>\n",
       "    </tr>\n",
       "    <tr>\n",
       "      <th>3</th>\n",
       "      <td>Abelag Airways</td>\n",
       "      <td>Belgium</td>\n",
       "      <td>inactive (with supported aircraft)</td>\n",
       "    </tr>\n",
       "    <tr>\n",
       "      <th>4</th>\n",
       "      <td>ABS Jets</td>\n",
       "      <td>Czech Republic</td>\n",
       "      <td>4</td>\n",
       "    </tr>\n",
       "  </tbody>\n",
       "</table>\n",
       "</div>"
      ],
      "text/plain": [
       "           AIRLINE         COUNTRY              INFORMATION/N.AIRCRAFT\n",
       "0      AB Airlines  United Kingdom  inactive (with supported aircraft)\n",
       "1          Aba Air  Czech Republic  inactive (with supported aircraft)\n",
       "2  ABC Air Hungary         Hungary  inactive (with supported aircraft)\n",
       "3   Abelag Airways         Belgium  inactive (with supported aircraft)\n",
       "4         ABS Jets  Czech Republic                                   4"
      ]
     },
     "execution_count": 160,
     "metadata": {},
     "output_type": "execute_result"
    }
   ],
   "source": [
    "df_af_clean = pd.read_excel('df_airfleets_clean.xlsx')\n",
    "df_af_clean.head()"
   ]
  },
  {
   "cell_type": "code",
   "execution_count": null,
   "id": "eb865d1c",
   "metadata": {},
   "outputs": [],
   "source": [
    "#--------------------------------------------------------------------------------"
   ]
  },
  {
   "cell_type": "code",
   "execution_count": 165,
   "id": "9e6d11af",
   "metadata": {},
   "outputs": [
    {
     "name": "stdout",
     "output_type": "stream",
     "text": [
      "Inserisci il nome di un paese: france\n",
      "Numero di compagnie attive: 30\n",
      "Numero di compagnie scomparse: 57\n",
      "Numero di compagnie assorbite: 35\n"
     ]
    }
   ],
   "source": [
    "#input paese\n",
    "paese = input(\"Inserisci il nome di un paese: \").capitalize()  # Trasforma il paese iniziale in maiuscolo\n",
    "\n",
    "trovato = False  # Flag per verificare se il paese è stato trovato\n",
    "\n",
    "active_count = 0\n",
    "disappeared_count = 0\n",
    "absorbed_count = 0\n",
    "\n",
    "#ciclo for per cercare il paese\n",
    "for index, row in df_af_clean.iterrows():\n",
    "    if row['COUNTRY'].lower() == paese.lower():  #ignora maiuscole/minuscole\n",
    "        trovato = True\n",
    "        information = row['INFORMATION/N.AIRCRAFT']\n",
    "\n",
    "        if information.isdigit():  #controllo se è un numero (compagnia attiva)\n",
    "            active_count += 1\n",
    "        elif information == 'inactive (with supported aircraft)':  #compagnia scomparsa\n",
    "            disappeared_count += 1\n",
    "        elif information.startswith('inactive (with supported aircraft)Renamed / Merged to'):  #compagnia assorbita\n",
    "            absorbed_count += 1\n",
    "\n",
    "#verifica se il paese è stato trovato\n",
    "if trovato:\n",
    "    print(f\"Numero di compagnie attive: {active_count}\")\n",
    "    print(f\"Numero di compagnie scomparse: {disappeared_count}\")\n",
    "    print(f\"Numero di compagnie assorbite: {absorbed_count}\")\n",
    "else:\n",
    "    print(\"Paese non trovato. Messaggio di errore.\")\n"
   ]
  },
  {
   "cell_type": "code",
   "execution_count": null,
   "id": "04ad5b9d",
   "metadata": {},
   "outputs": [],
   "source": []
  },
  {
   "cell_type": "code",
   "execution_count": null,
   "id": "8a79d3f0",
   "metadata": {},
   "outputs": [],
   "source": []
  },
  {
   "cell_type": "code",
   "execution_count": null,
   "id": "b275f922",
   "metadata": {},
   "outputs": [],
   "source": []
  },
  {
   "cell_type": "code",
   "execution_count": 51,
   "id": "01e2e82b",
   "metadata": {},
   "outputs": [],
   "source": [
    "#info_counts = df_af_clean['INFORMATION'].value_counts()\n",
    "#print(info_counts)"
   ]
  },
  {
   "cell_type": "code",
   "execution_count": 44,
   "id": "6db02181",
   "metadata": {},
   "outputs": [
    {
     "data": {
      "text/plain": [
       "'\\nto do\\n- elimmina colonna img\\n- conta righe con il numero aerei (eliminare parola aircraft?)\\n- conta righe inactive\\n- conta le mergiate\\n\\nEvntuali GRAFICI\\n'"
      ]
     },
     "execution_count": 44,
     "metadata": {},
     "output_type": "execute_result"
    }
   ],
   "source": [
    "'''\n",
    "to do\n",
    "Evntuali GRAFICI\n",
    "'''"
   ]
  },
  {
   "cell_type": "code",
   "execution_count": null,
   "id": "7c252784",
   "metadata": {},
   "outputs": [],
   "source": []
  },
  {
   "cell_type": "code",
   "execution_count": null,
   "id": "20b0be87",
   "metadata": {},
   "outputs": [],
   "source": []
  },
  {
   "cell_type": "code",
   "execution_count": null,
   "id": "b7e811ac",
   "metadata": {},
   "outputs": [],
   "source": []
  },
  {
   "cell_type": "code",
   "execution_count": null,
   "id": "af47cc4f",
   "metadata": {},
   "outputs": [],
   "source": []
  },
  {
   "cell_type": "code",
   "execution_count": 4,
   "id": "5cfddf5f",
   "metadata": {},
   "outputs": [],
   "source": [
    "def get_airline_categories(country: str):\n",
    "    try:\n",
    "        # Converte il paese inserito dall'utente in minuscolo\n",
    "        country = \"Italy\"\n",
    "\n",
    "        # Inizializza i contatori per le tre categorie\n",
    "        aircraft_count = 0\n",
    "        inactive_with_aircraft_count = 0\n",
    "        inactive_merged_count = 0\n",
    "\n",
    "        # Scorre i dati e conta le compagnie aeree nelle tre categorie\n",
    "        for index in dati['AIRLINE']:\n",
    "            airline_info = ['INFORMATION'][index].lower()\n",
    "            if dati['COUNTRY'][index].lower() == country:\n",
    "                if \"**aircraft**\" in airline_info:\n",
    "                    aircraft_count += 1\n",
    "                if \"**inactive (with supported aircraft)**\" in airline_info:\n",
    "                    inactive_with_aircraft_count += 1\n",
    "                if \"**inactive (with supported aircraft)renamed / merged**\" in airline_info:\n",
    "                    inactive_merged_count += 1\n",
    "\n",
    "        return {\n",
    "            'country': country,\n",
    "            'aircraft_count': aircraft_count,\n",
    "            'inactive_with_aircraft_count': inactive_with_aircraft_count,\n",
    "            'inactive_merged_count': inactive_merged_count\n",
    "        }\n",
    "    except Exception as e:\n",
    "        return {'error': str(e)}\n"
   ]
  },
  {
   "cell_type": "code",
   "execution_count": 6,
   "id": "d924f3e7",
   "metadata": {},
   "outputs": [
    {
     "ename": "NameError",
     "evalue": "name 'aircraft_count' is not defined",
     "output_type": "error",
     "traceback": [
      "\u001b[0;31m---------------------------------------------------------------------------\u001b[0m",
      "\u001b[0;31mNameError\u001b[0m                                 Traceback (most recent call last)",
      "Cell \u001b[0;32mIn[6], line 1\u001b[0m\n\u001b[0;32m----> 1\u001b[0m \u001b[43maircraft_count\u001b[49m\n",
      "\u001b[0;31mNameError\u001b[0m: name 'aircraft_count' is not defined"
     ]
    }
   ],
   "source": [
    "aircraft_count"
   ]
  },
  {
   "cell_type": "code",
   "execution_count": null,
   "id": "573ed1d5",
   "metadata": {},
   "outputs": [],
   "source": []
  },
  {
   "cell_type": "code",
   "execution_count": null,
   "id": "9fa7fc7c",
   "metadata": {},
   "outputs": [],
   "source": []
  },
  {
   "cell_type": "code",
   "execution_count": null,
   "id": "4fb4fb93",
   "metadata": {},
   "outputs": [],
   "source": []
  },
  {
   "cell_type": "code",
   "execution_count": null,
   "id": "20577a5b",
   "metadata": {},
   "outputs": [],
   "source": []
  },
  {
   "cell_type": "code",
   "execution_count": null,
   "id": "9946f299",
   "metadata": {},
   "outputs": [],
   "source": []
  },
  {
   "cell_type": "code",
   "execution_count": null,
   "id": "3ecb5c28",
   "metadata": {},
   "outputs": [],
   "source": []
  },
  {
   "cell_type": "code",
   "execution_count": null,
   "id": "239f8045",
   "metadata": {},
   "outputs": [],
   "source": []
  },
  {
   "cell_type": "code",
   "execution_count": null,
   "id": "26f32f55",
   "metadata": {},
   "outputs": [],
   "source": []
  },
  {
   "cell_type": "code",
   "execution_count": null,
   "id": "07430e57",
   "metadata": {},
   "outputs": [],
   "source": []
  },
  {
   "cell_type": "code",
   "execution_count": null,
   "id": "0f16eefc",
   "metadata": {},
   "outputs": [],
   "source": []
  },
  {
   "cell_type": "code",
   "execution_count": null,
   "id": "1bd07ee0",
   "metadata": {},
   "outputs": [],
   "source": []
  },
  {
   "cell_type": "code",
   "execution_count": null,
   "id": "b0afbb45",
   "metadata": {},
   "outputs": [],
   "source": []
  },
  {
   "cell_type": "code",
   "execution_count": null,
   "id": "0ba84498",
   "metadata": {},
   "outputs": [],
   "source": []
  },
  {
   "cell_type": "code",
   "execution_count": null,
   "id": "67718c27",
   "metadata": {},
   "outputs": [],
   "source": []
  },
  {
   "cell_type": "code",
   "execution_count": null,
   "id": "643f894b",
   "metadata": {},
   "outputs": [],
   "source": []
  },
  {
   "cell_type": "code",
   "execution_count": null,
   "id": "c26f5804",
   "metadata": {},
   "outputs": [],
   "source": []
  },
  {
   "cell_type": "code",
   "execution_count": null,
   "id": "e2b9c9ad",
   "metadata": {},
   "outputs": [],
   "source": []
  },
  {
   "cell_type": "code",
   "execution_count": null,
   "id": "7fc058e9",
   "metadata": {},
   "outputs": [],
   "source": []
  },
  {
   "cell_type": "code",
   "execution_count": null,
   "id": "28f8195b",
   "metadata": {},
   "outputs": [],
   "source": []
  },
  {
   "cell_type": "code",
   "execution_count": null,
   "id": "ef727ceb",
   "metadata": {},
   "outputs": [],
   "source": []
  },
  {
   "cell_type": "code",
   "execution_count": null,
   "id": "fb637073",
   "metadata": {},
   "outputs": [],
   "source": []
  },
  {
   "cell_type": "code",
   "execution_count": null,
   "id": "f1811ffa",
   "metadata": {},
   "outputs": [],
   "source": []
  },
  {
   "cell_type": "code",
   "execution_count": null,
   "id": "4fd89282",
   "metadata": {},
   "outputs": [],
   "source": []
  },
  {
   "cell_type": "code",
   "execution_count": null,
   "id": "43d2dd70",
   "metadata": {},
   "outputs": [],
   "source": []
  },
  {
   "cell_type": "markdown",
   "id": "3d7566a4",
   "metadata": {},
   "source": [
    "### Statistics of categorical data"
   ]
  },
  {
   "cell_type": "markdown",
   "id": "0d3b88c7",
   "metadata": {},
   "source": [
    "<font size=\"4\" color=red> Very few patients have had a stroke: the dataset is unbalanced </font>"
   ]
  },
  {
   "cell_type": "markdown",
   "id": "63063393",
   "metadata": {},
   "source": [
    "<a id = '2.3'></a>\n",
    "<h1 style=\"font-size: 150%;\">Definition of the Data Transformation Pipeline </h1>"
   ]
  },
  {
   "cell_type": "markdown",
   "id": "46f926ff",
   "metadata": {},
   "source": [
    "In classifier_configs, better results were attempted by trying different algorithms, including XGBClassifier() and SVC(), the results of which were similar and/or worse in terms of performance and timing."
   ]
  },
  {
   "cell_type": "markdown",
   "id": "33ad0178",
   "metadata": {},
   "source": [
    "<a id = '3.1'></a>\n",
    "<h1 style=\"font-size: 150%;\">Outcome</h1>"
   ]
  },
  {
   "cell_type": "markdown",
   "id": "17ac78d0",
   "metadata": {},
   "source": [
    "<font size=\"4\" color=magenta> The best seems to be: </font> <font size=\"4\"><b> LogisticRegression </font>"
   ]
  },
  {
   "cell_type": "markdown",
   "id": "6cea3940",
   "metadata": {},
   "source": [
    "<a id = '3.2'></a>\n",
    "<h1 style=\"font-size: 150%;\">Refinement of the selected model</h1>\n",
    "\n",
    "Previously, we selected one of the best candidate models. Now, we perform the hyperparameter optimization again by fixing the modelling approach and varying the hyperparameters in a range close to that of the selected "
   ]
  },
  {
   "cell_type": "markdown",
   "id": "f5cea486",
   "metadata": {},
   "source": [
    "<a id = '3.3'></a>\n",
    "<h1 style=\"font-size: 150%;\">Learning curves & Validation curves </h1>"
   ]
  },
  {
   "cell_type": "markdown",
   "id": "7537ced4",
   "metadata": {},
   "source": [
    "The graph shows the learning curve to assess how the performance of the model varies with the size of the training set.\n",
    "\n",
    "The blue curve shows the accuracy of the model on the training set, while the green curve shows the accuracy on the validation set; the variance of the results is indicated by the coloured areas.\n",
    "\n",
    "The accuracy of the model decreases rapidly as the size of the training set increases, then increases and finally stabilises. There are no overfitting problems, the accuracy line on the training set is never much higher than that on the validation set, so there is no loss of generality."
   ]
  },
  {
   "cell_type": "code",
   "execution_count": null,
   "id": "c6b25ce7",
   "metadata": {},
   "outputs": [],
   "source": []
  },
  {
   "cell_type": "markdown",
   "id": "96b4f05d",
   "metadata": {},
   "source": [
    "As noted earlier, some stroke-related categorical data show who are most at risk. Multiple attempts, with as many algorithms, did not result in exceeding the 30% accuracy value, this does not exclude that additional investigation may lead to the identification of better models."
   ]
  },
  {
   "cell_type": "code",
   "execution_count": null,
   "id": "27447667",
   "metadata": {
    "scrolled": true
   },
   "outputs": [],
   "source": [
    "#recall def from utils_API.py for create lowercase alphabet\n",
    "ut.get_num_pages(url) #se stacchi la def in un altro blocco il codice non funziona\n",
    "\n",
    "alphabet = ut.listAlphabet()\n",
    "alphabet.pop(0)\n",
    "\n",
    "rows = []\n",
    "row_names = []\n",
    "\n",
    "for index,letter in enumerate(alphabet):\n",
    "    \n",
    "    print('https://www.airfleets.net/recherche/list-airline-{}.htm'.format(letter))\n",
    "    num_pagine = ut.get_num_pages('https://www.airfleets.net/recherche/list-airline-{}.htm'.format(letter))\n",
    "    print(num_pagine)\n",
    "    num_pagine = num_pagine.split('/')[1]\n",
    "    \n",
    "    for pagina in range(1,int(num_pagine)+1):\n",
    "        url =''\n",
    "        if pagina == 1:\n",
    "            url = 'https://www.airfleets.net/recherche/list-airline-{}_0.htm'.format(letter)\n",
    "        else:\n",
    "            url = 'https://www.airfleets.net/recherche/list-airline-{}_{}.htm'.format(letter,(pagina-1)*20)\n",
    "        data = requests.get( url,headers = {'User-Agent':'{}'.format(ua.random)})\n",
    "        soup = BeautifulSoup(data.content, 'html.parser')\n",
    "        print('fetch indirizzo {} {} index:{}'.format(url,data,index))\n",
    "        \n",
    "        for table in soup.find_all(\"table\", class_=\"tablestd\"):\n",
    "            for row in table.find_all(\"tr\", class_=\"tabcontent\"):\n",
    "                for colonna in row.find_all(\"td\"):\n",
    "                    row_names.append(colonna.text)\n",
    "                    #print(row_names)\n",
    "                #print('fine row')\n",
    "\n",
    "                rows.append(row_names)\n",
    "                row_names = []\n",
    "        time.sleep(1)\n",
    "    print('prepariamom eliminazione lettera {}'.format(alphabet[0))\n",
    "    alphabet.pop(0)\n",
    "                                                                \n",
    "                                                                \n",
    "                                                                \n",
    "print(\"All letters have been taken!\")"
   ]
  }
 ],
 "metadata": {
  "kernelspec": {
   "display_name": "Python 3 (ipykernel)",
   "language": "python",
   "name": "python3"
  },
  "language_info": {
   "codemirror_mode": {
    "name": "ipython",
    "version": 3
   },
   "file_extension": ".py",
   "mimetype": "text/x-python",
   "name": "python",
   "nbconvert_exporter": "python",
   "pygments_lexer": "ipython3",
   "version": "3.9.17"
  }
 },
 "nbformat": 4,
 "nbformat_minor": 5
}
