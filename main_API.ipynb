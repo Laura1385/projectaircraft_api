{
 "cells": [
  {
   "cell_type": "code",
   "execution_count": null,
   "id": "fe48ce53",
   "metadata": {},
   "outputs": [],
   "source": [
    "#pip install -r requirement.txt\n",
    "#pip install mlxtend\n",
    "#pip install xgboost\n",
    "#pip install pillow\n",
    "#pip install fake_useragent\n",
    "#pip install openpyxl"
   ]
  },
  {
   "cell_type": "code",
   "execution_count": null,
   "id": "77e5c203",
   "metadata": {},
   "outputs": [],
   "source": []
  },
  {
   "cell_type": "code",
   "execution_count": null,
   "id": "a4d28345",
   "metadata": {},
   "outputs": [],
   "source": [
    "import sys\n",
    "print(sys.executable)"
   ]
  },
  {
   "cell_type": "markdown",
   "id": "16cd1899",
   "metadata": {},
   "source": [
    "<h1 style=\"font-family:Calibri;color:black;font-size:197%;text-align:center\">The Art and Science of API Design:Crafting Connectivity in & out of Business </h1>\n",
    "\n",
    "<h1 style=\"font-family:Calibri;color:black;font-size:117%;text-align:center\">Master Data science - a.a. 2022-2023 \n",
    "Final Project</h1>\n",
    "\n",
    "<h1 style=\";font-family:Calibri;color:violet;font-size:170%;text-align:center;border-radius: px 50px;\"> student: Laura Proto </h1>"
   ]
  },
  {
   "cell_type": "markdown",
   "id": "84c316ae",
   "metadata": {},
   "source": [
    "<h1 style=\"background-color:#eaeaea;font-family:Calibri;color:#fe0b50;font-size:200%;text-align:center;border-radius: 50px;padding: 10px\">Parte pratica: Airlines Data</h1>"
   ]
  },
  {
   "cell_type": "code",
   "execution_count": null,
   "id": "bb2de56c",
   "metadata": {},
   "outputs": [],
   "source": [
    "from PIL import Image\n",
    "from IPython.display import display, HTML\n",
    "\n",
    "display(HTML(\"<div style='display:flex; justify-content:center;'><img src='aerei.jpg' style='max-width:70%;'></div>\"))"
   ]
  },
  {
   "cell_type": "markdown",
   "id": "b7b9850f",
   "metadata": {},
   "source": [
    "## Il Dataset\n",
    "\n",
    "Stroke is a serious medical condition that is the second leading cause of death worldwide, according to the World Health Organisation (WHO); it accounts for about 11% of all recorded deaths....\n",
    "\n",
    "\n",
    "*fonte: https://www.kaggle.com/datasets/fedesoriano/stroke-prediction-dataset\n"
   ]
  },
  {
   "cell_type": "markdown",
   "id": "5d64a743",
   "metadata": {},
   "source": [
    "<h1 style=\"background-color:#eaeaea;font-family:Calibri;color:orange;font-size:250%;text-align:center;border-radius:50px;padding:10px 30px;\">Index</h1>"
   ]
  },
  {
   "cell_type": "markdown",
   "id": "38a4c2f3",
   "metadata": {},
   "source": [
    "- [Libraries & Utilities](#1)\n",
    "- [Skyscanner's airlines list](#2)\n",
    "    - [Take data from site ](#2.1)\n",
    "    - [Analysis of values](#2.2)\n",
    "    - [Definition of the Data Transformation Pipeline](#2.3)\n",
    "- [Airfleets.net](#3)\n",
    "    - [Outcome](#3.1)\n",
    "    - [Refinement of the selected model](#3.2)\n",
    "    - [Learning curves & Validation curves](#3.3)\n",
    "- [Conclusions](#4)"
   ]
  },
  {
   "cell_type": "markdown",
   "id": "ae9ce150",
   "metadata": {},
   "source": [
    "<a id = '1'></a>\n",
    "<h1 style=\"background-color:#eaeaea;font-family:Calibri;color:blue;font-size:250%;text-align:center;border-radius:50px;padding:10px 30px;\">Libraries</h1>"
   ]
  },
  {
   "cell_type": "code",
   "execution_count": 19,
   "id": "ba4daecf",
   "metadata": {},
   "outputs": [],
   "source": [
    "import utils_API as ut\n",
    "\n",
    "import requests\n",
    "import time\n",
    "import random\n",
    "import json\n",
    "import pandas as pd\n",
    "import pickle\n",
    "\n",
    "from bs4 import BeautifulSoup\n",
    "from urllib.request import urlopen\n",
    "from fake_useragent import UserAgent \n",
    "from datetime import date\n",
    "\n",
    "import warnings\n",
    "warnings.filterwarnings('ignore')"
   ]
  },
  {
   "cell_type": "markdown",
   "id": "eb7972a9",
   "metadata": {},
   "source": [
    "<a id = '2'></a>\n",
    "<h1 style=\"background-color:#eaeaea;font-family:Calibri;color:orange;font-size:250%;text-align:center;border-radius: 50px;padding:10px 30px\">Skyscanner.it airlines list</h1>"
   ]
  },
  {
   "cell_type": "markdown",
   "id": "4a972075",
   "metadata": {},
   "source": [
    "<a id = '2.1'></a>\n",
    "<h1 style=\"font-size: 150%;\">Take data from site </h1>"
   ]
  },
  {
   "cell_type": "code",
   "execution_count": 69,
   "id": "9aea2cca",
   "metadata": {},
   "outputs": [
    {
     "name": "stdout",
     "output_type": "stream",
     "text": [
      "https://www.skyscanner.it/sitemap/voli-tutte-le-compagnie-aeree?page=1\n",
      "https://www.skyscanner.it/sitemap/voli-tutte-le-compagnie-aeree?page=2\n",
      "https://www.skyscanner.it/sitemap/voli-tutte-le-compagnie-aeree?page=3\n",
      "1406\n"
     ]
    }
   ],
   "source": [
    "ua = UserAgent()\n",
    "ua.random\n",
    "\n",
    "linee_aeree = []\n",
    "\n",
    "#adesso ricerchi nei tag che hai memorizzato in soup, tutti quelli di tipo href\n",
    "for page in range(1,999):\n",
    "    crescita = 0\n",
    "    url_al= 'https://www.skyscanner.it/sitemap/voli-tutte-le-compagnie-aeree?page={}'.format(page)\n",
    "    print(url_al)\n",
    "    #request scarica l'url e ha delle opzioni per passare ulteriori info, comme lo user agent attraverso gli heders di richiesta pagina\n",
    "    data = requests.get(url_al,headers = {'User-Agent':'{}'.format(ua.random)})\n",
    "    #adesso che hai scaricato la pagina, usi bs4 per fare il parse dei tag html\n",
    "    soup = BeautifulSoup(data.content, 'html.parser')\n",
    "    for a in soup.find_all('a', href=True):\n",
    "        #visto che ti ritorna ogni tipo di link, fai un filtro sul loro indirizzo (a.get('href')) per selezionare solo le commpagnie aeree\n",
    "        if 'linea-aerea' in a.get('href'):\n",
    "            #print(\"{}\".format(a.text) )\n",
    "            #print(\"Found the URL:{}\\n{}\".format(a.get('href'),a.text) )\n",
    "            #print(\"{}\".format(a.text) )\n",
    "            linee_aeree.append(a.text.replace('Voli ',''))\n",
    "            crescita = 1\n",
    "    if crescita == 0:\n",
    "        break\n",
    "\n",
    "print(len(linee_aeree))"
   ]
  },
  {
   "cell_type": "code",
   "execution_count": 70,
   "id": "af5e8d71",
   "metadata": {},
   "outputs": [
    {
     "data": {
      "text/html": [
       "<div>\n",
       "<style scoped>\n",
       "    .dataframe tbody tr th:only-of-type {\n",
       "        vertical-align: middle;\n",
       "    }\n",
       "\n",
       "    .dataframe tbody tr th {\n",
       "        vertical-align: top;\n",
       "    }\n",
       "\n",
       "    .dataframe thead th {\n",
       "        text-align: right;\n",
       "    }\n",
       "</style>\n",
       "<table border=\"1\" class=\"dataframe\">\n",
       "  <thead>\n",
       "    <tr style=\"text-align: right;\">\n",
       "      <th></th>\n",
       "      <th>AIRLINE</th>\n",
       "    </tr>\n",
       "  </thead>\n",
       "  <tbody>\n",
       "    <tr>\n",
       "      <th>95</th>\n",
       "      <td>40-Mile Air</td>\n",
       "    </tr>\n",
       "    <tr>\n",
       "      <th>664</th>\n",
       "      <td>748 Air Services</td>\n",
       "    </tr>\n",
       "    <tr>\n",
       "      <th>234</th>\n",
       "      <td>9 Air</td>\n",
       "    </tr>\n",
       "    <tr>\n",
       "      <th>499</th>\n",
       "      <td>AB Aviation</td>\n",
       "    </tr>\n",
       "    <tr>\n",
       "      <th>796</th>\n",
       "      <td>AIS Airlines</td>\n",
       "    </tr>\n",
       "  </tbody>\n",
       "</table>\n",
       "</div>"
      ],
      "text/plain": [
       "              AIRLINE\n",
       "95        40-Mile Air\n",
       "664  748 Air Services\n",
       "234             9 Air\n",
       "499       AB Aviation\n",
       "796      AIS Airlines"
      ]
     },
     "execution_count": 70,
     "metadata": {},
     "output_type": "execute_result"
    }
   ],
   "source": [
    "#create df \n",
    "len(linee_aeree)\n",
    "heading = ['AIRLINE']\n",
    "df_sky = pd.DataFrame(columns=heading)\n",
    "for r in linee_aeree:\n",
    "    if len(r)!=0:\n",
    "        df_sky.loc[len(df_sky)] = r\n",
    "df_sky_sorted = df_sky.sort_values(by='AIRLINE')\n",
    "df_sky_sorted.head()"
   ]
  },
  {
   "cell_type": "code",
   "execution_count": 78,
   "id": "581c269e",
   "metadata": {},
   "outputs": [
    {
     "name": "stdout",
     "output_type": "stream",
     "text": [
      "Duplicate rows are: 19\n"
     ]
    }
   ],
   "source": [
    "#check & count duplicates rows\n",
    "sky_nrows_double = len(df_sky_sorted) - len(df_sky_sorted.drop_duplicates())\n",
    "print(f\"Duplicate rows are: {sky_nrows_double}\")"
   ]
  },
  {
   "cell_type": "code",
   "execution_count": 81,
   "id": "fca77a39",
   "metadata": {},
   "outputs": [],
   "source": [
    "#export to excell\n",
    "df_sky_no_duplicates = df_sky_sorted.drop_duplicates()\n",
    "df_sky_no_duplicates.to_excel(\"df_skyscanners_clean.xlsx\", index=False)"
   ]
  },
  {
   "cell_type": "markdown",
   "id": "5f05ddee",
   "metadata": {},
   "source": [
    "<a id = '3'></a>\n",
    "<h1 style=\"background-color:#eaeaea;font-family:Calibri;color:green;font-size:250%;text-align:center;border-radius: 50px;padding:10px 30px\">Airfleets.net data</h1>"
   ]
  },
  {
   "cell_type": "markdown",
   "id": "e59913cc",
   "metadata": {},
   "source": [
    "<a id = '2.1'></a>\n",
    "<h1 style=\"font-size: 150%;\">Take data from site </h1>"
   ]
  },
  {
   "cell_type": "code",
   "execution_count": 35,
   "id": "b682c117",
   "metadata": {},
   "outputs": [],
   "source": [
    "#create random headers\n",
    "list_headers = [{'User-Agent': 'Mozilla/5.0 (Macintosh; Intel Mac OS X 10_10_1) AppleWebKit/537.36 (KHTML, like Gecko) Chrome/39.0.2171.95 Safari/537.36'},{\"User-Agent\": \"Mozilla/5.0 (Windows NT 10.0; WOW64) AppleWebKit/537.36 (KHTML, like Gecko) Chrome/109.0.0.0 Safari/537.36\"},{'User-Agent': 'Mozilla/5.0 (Windows NT 5.1) AppleWebKit/535.1 (KHTML, like Gecko) Chrome/13.0.782.41 Safari/535.1'}]\n",
    "headers = random.choice(list_headers)\n",
    "ua = UserAgent()"
   ]
  },
  {
   "cell_type": "code",
   "execution_count": 36,
   "id": "43bcf6b2",
   "metadata": {},
   "outputs": [
    {
     "name": "stdout",
     "output_type": "stream",
     "text": [
      "Good Job!: <Response [200]>\n"
     ]
    }
   ],
   "source": [
    "#ping site web\n",
    "ua = UserAgent()\n",
    "\n",
    "#recall def from utils_API.py\n",
    "headers = ut.gen_random_headers()\n",
    "url = 'https://www.airfleets.net/recherche/list-airline-a.htm'\n",
    "data = requests.get(url, headers=headers)\n",
    "\n",
    "if data.status_code == 200:\n",
    "    print(f\"Good Job!: {data}\")\n",
    "else:\n",
    "     print(f\"pistù :( {data} \\n429 too many request \\n403 forbidden\")"
   ]
  },
  {
   "cell_type": "code",
   "execution_count": 37,
   "id": "9ced1d59",
   "metadata": {},
   "outputs": [
    {
     "name": "stdout",
     "output_type": "stream",
     "text": [
      "['a', 'b', 'c', 'd', 'e', 'f', 'g', 'h', 'i', 'j', 'k', 'l', 'm', 'n', 'o', 'p', 'q', 'r', 's', 't', 'u', 'v', 'w', 'x', 'y', 'z']\n"
     ]
    }
   ],
   "source": [
    "#recall def from utils_API.py for dowload data\n",
    "print(ut.listAlphabet())"
   ]
  },
  {
   "cell_type": "code",
   "execution_count": 38,
   "id": "bf8b2d8d",
   "metadata": {},
   "outputs": [
    {
     "name": "stdout",
     "output_type": "stream",
     "text": [
      "<Response [200]>\n",
      "<a class=\"page2\">Page 1/44 </a>\n"
     ]
    }
   ],
   "source": [
    "ut.get_num_pages(url) #se stacchi la def in un altro blocco il codice non funziona\n",
    "alphabet = ut.listAlphabet()\n",
    "rows = []\n",
    "row_names = []"
   ]
  },
  {
   "cell_type": "code",
   "execution_count": 41,
   "id": "aee900fe",
   "metadata": {
    "scrolled": true
   },
   "outputs": [
    {
     "name": "stdout",
     "output_type": "stream",
     "text": [
      "https://www.airfleets.net/recherche/list-airline-o.htm\n",
      "<Response [200]>\n",
      "<a class=\"page2\">Page 1/4 </a>\n",
      "Page 1/4 \n",
      "fetch indirizzo https://www.airfleets.net/recherche/list-airline-o_0.htm <Response [200]>\n",
      "fetch indirizzo https://www.airfleets.net/recherche/list-airline-o_20.htm <Response [200]>\n",
      "fetch indirizzo https://www.airfleets.net/recherche/list-airline-o_40.htm <Response [200]>\n",
      "fetch indirizzo https://www.airfleets.net/recherche/list-airline-o_60.htm <Response [200]>\n",
      "Prepariamo eliminazione lettera o\n",
      "https://www.airfleets.net/recherche/list-airline-p.htm\n",
      "<Response [200]>\n",
      "<a class=\"page2\">Page 1/9 </a>\n",
      "Page 1/9 \n",
      "fetch indirizzo https://www.airfleets.net/recherche/list-airline-p_0.htm <Response [200]>\n",
      "fetch indirizzo https://www.airfleets.net/recherche/list-airline-p_20.htm <Response [200]>\n",
      "fetch indirizzo https://www.airfleets.net/recherche/list-airline-p_40.htm <Response [200]>\n",
      "fetch indirizzo https://www.airfleets.net/recherche/list-airline-p_60.htm <Response [200]>\n",
      "fetch indirizzo https://www.airfleets.net/recherche/list-airline-p_80.htm <Response [200]>\n",
      "fetch indirizzo https://www.airfleets.net/recherche/list-airline-p_100.htm <Response [200]>\n",
      "fetch indirizzo https://www.airfleets.net/recherche/list-airline-p_120.htm <Response [200]>\n",
      "fetch indirizzo https://www.airfleets.net/recherche/list-airline-p_140.htm <Response [200]>\n",
      "fetch indirizzo https://www.airfleets.net/recherche/list-airline-p_160.htm <Response [200]>\n",
      "Prepariamo eliminazione lettera p\n",
      "https://www.airfleets.net/recherche/list-airline-q.htm\n",
      "<Response [200]>\n",
      "<a class=\"page2\">Page 1/1 </a>\n",
      "Page 1/1 \n",
      "fetch indirizzo https://www.airfleets.net/recherche/list-airline-q_0.htm <Response [200]>\n",
      "Prepariamo eliminazione lettera q\n",
      "https://www.airfleets.net/recherche/list-airline-r.htm\n",
      "<Response [200]>\n",
      "<a class=\"page2\">Page 1/7 </a>\n",
      "Page 1/7 \n",
      "fetch indirizzo https://www.airfleets.net/recherche/list-airline-r_0.htm <Response [200]>\n",
      "fetch indirizzo https://www.airfleets.net/recherche/list-airline-r_20.htm <Response [200]>\n",
      "fetch indirizzo https://www.airfleets.net/recherche/list-airline-r_40.htm <Response [200]>\n",
      "fetch indirizzo https://www.airfleets.net/recherche/list-airline-r_60.htm <Response [200]>\n",
      "fetch indirizzo https://www.airfleets.net/recherche/list-airline-r_80.htm <Response [200]>\n",
      "fetch indirizzo https://www.airfleets.net/recherche/list-airline-r_100.htm <Response [200]>\n",
      "fetch indirizzo https://www.airfleets.net/recherche/list-airline-r_120.htm <Response [200]>\n",
      "Prepariamo eliminazione lettera r\n",
      "https://www.airfleets.net/recherche/list-airline-s.htm\n",
      "<Response [200]>\n",
      "<a class=\"page2\">Page 1/21 </a>\n",
      "Page 1/21 \n",
      "fetch indirizzo https://www.airfleets.net/recherche/list-airline-s_0.htm <Response [200]>\n",
      "fetch indirizzo https://www.airfleets.net/recherche/list-airline-s_20.htm <Response [200]>\n",
      "fetch indirizzo https://www.airfleets.net/recherche/list-airline-s_40.htm <Response [200]>\n",
      "fetch indirizzo https://www.airfleets.net/recherche/list-airline-s_60.htm <Response [200]>\n",
      "fetch indirizzo https://www.airfleets.net/recherche/list-airline-s_80.htm <Response [200]>\n",
      "fetch indirizzo https://www.airfleets.net/recherche/list-airline-s_100.htm <Response [200]>\n",
      "fetch indirizzo https://www.airfleets.net/recherche/list-airline-s_120.htm <Response [200]>\n",
      "fetch indirizzo https://www.airfleets.net/recherche/list-airline-s_140.htm <Response [200]>\n",
      "fetch indirizzo https://www.airfleets.net/recherche/list-airline-s_160.htm <Response [200]>\n",
      "fetch indirizzo https://www.airfleets.net/recherche/list-airline-s_180.htm <Response [200]>\n",
      "fetch indirizzo https://www.airfleets.net/recherche/list-airline-s_200.htm <Response [200]>\n",
      "fetch indirizzo https://www.airfleets.net/recherche/list-airline-s_220.htm <Response [200]>\n",
      "fetch indirizzo https://www.airfleets.net/recherche/list-airline-s_240.htm <Response [200]>\n",
      "fetch indirizzo https://www.airfleets.net/recherche/list-airline-s_260.htm <Response [200]>\n",
      "fetch indirizzo https://www.airfleets.net/recherche/list-airline-s_280.htm <Response [200]>\n",
      "fetch indirizzo https://www.airfleets.net/recherche/list-airline-s_300.htm <Response [200]>\n",
      "fetch indirizzo https://www.airfleets.net/recherche/list-airline-s_320.htm <Response [200]>\n",
      "fetch indirizzo https://www.airfleets.net/recherche/list-airline-s_340.htm <Response [200]>\n",
      "fetch indirizzo https://www.airfleets.net/recherche/list-airline-s_360.htm <Response [200]>\n",
      "fetch indirizzo https://www.airfleets.net/recherche/list-airline-s_380.htm <Response [200]>\n",
      "fetch indirizzo https://www.airfleets.net/recherche/list-airline-s_400.htm <Response [200]>\n",
      "Prepariamo eliminazione lettera s\n",
      "https://www.airfleets.net/recherche/list-airline-t.htm\n",
      "<Response [200]>\n",
      "<a class=\"page2\">Page 1/12 </a>\n",
      "Page 1/12 \n",
      "fetch indirizzo https://www.airfleets.net/recherche/list-airline-t_0.htm <Response [200]>\n",
      "fetch indirizzo https://www.airfleets.net/recherche/list-airline-t_20.htm <Response [200]>\n",
      "fetch indirizzo https://www.airfleets.net/recherche/list-airline-t_40.htm <Response [200]>\n",
      "fetch indirizzo https://www.airfleets.net/recherche/list-airline-t_60.htm <Response [200]>\n",
      "fetch indirizzo https://www.airfleets.net/recherche/list-airline-t_80.htm <Response [200]>\n",
      "fetch indirizzo https://www.airfleets.net/recherche/list-airline-t_100.htm <Response [200]>\n",
      "fetch indirizzo https://www.airfleets.net/recherche/list-airline-t_120.htm <Response [200]>\n",
      "fetch indirizzo https://www.airfleets.net/recherche/list-airline-t_140.htm <Response [200]>\n",
      "fetch indirizzo https://www.airfleets.net/recherche/list-airline-t_160.htm <Response [200]>\n",
      "fetch indirizzo https://www.airfleets.net/recherche/list-airline-t_180.htm <Response [200]>\n",
      "fetch indirizzo https://www.airfleets.net/recherche/list-airline-t_200.htm <Response [200]>\n",
      "fetch indirizzo https://www.airfleets.net/recherche/list-airline-t_220.htm <Response [200]>\n",
      "Prepariamo eliminazione lettera t\n",
      "https://www.airfleets.net/recherche/list-airline-u.htm\n",
      "<Response [200]>\n",
      "<a class=\"page2\">Page 1/3 </a>\n",
      "Page 1/3 \n",
      "fetch indirizzo https://www.airfleets.net/recherche/list-airline-u_0.htm <Response [200]>\n",
      "fetch indirizzo https://www.airfleets.net/recherche/list-airline-u_20.htm <Response [200]>\n",
      "fetch indirizzo https://www.airfleets.net/recherche/list-airline-u_40.htm <Response [200]>\n",
      "Prepariamo eliminazione lettera u\n",
      "https://www.airfleets.net/recherche/list-airline-v.htm\n",
      "<Response [200]>\n",
      "<a class=\"page2\">Page 1/5 </a>\n",
      "Page 1/5 \n",
      "fetch indirizzo https://www.airfleets.net/recherche/list-airline-v_0.htm <Response [200]>\n",
      "fetch indirizzo https://www.airfleets.net/recherche/list-airline-v_20.htm <Response [200]>\n",
      "fetch indirizzo https://www.airfleets.net/recherche/list-airline-v_40.htm <Response [200]>\n",
      "fetch indirizzo https://www.airfleets.net/recherche/list-airline-v_60.htm <Response [200]>\n",
      "fetch indirizzo https://www.airfleets.net/recherche/list-airline-v_80.htm <Response [200]>\n",
      "Prepariamo eliminazione lettera v\n",
      "https://www.airfleets.net/recherche/list-airline-w.htm\n",
      "<Response [200]>\n",
      "<a class=\"page2\">Page 1/4 </a>\n",
      "Page 1/4 \n",
      "fetch indirizzo https://www.airfleets.net/recherche/list-airline-w_0.htm <Response [200]>\n",
      "fetch indirizzo https://www.airfleets.net/recherche/list-airline-w_20.htm <Response [200]>\n",
      "fetch indirizzo https://www.airfleets.net/recherche/list-airline-w_40.htm <Response [200]>\n",
      "fetch indirizzo https://www.airfleets.net/recherche/list-airline-w_60.htm <Response [200]>\n",
      "Prepariamo eliminazione lettera w\n",
      "https://www.airfleets.net/recherche/list-airline-x.htm\n",
      "<Response [200]>\n",
      "<a class=\"page2\">Page 1/1 </a>\n",
      "Page 1/1 \n",
      "fetch indirizzo https://www.airfleets.net/recherche/list-airline-x_0.htm <Response [200]>\n",
      "Prepariamo eliminazione lettera x\n",
      "https://www.airfleets.net/recherche/list-airline-y.htm\n",
      "<Response [200]>\n",
      "<a class=\"page2\">Page 1/1 </a>\n",
      "Page 1/1 \n",
      "fetch indirizzo https://www.airfleets.net/recherche/list-airline-y_0.htm <Response [200]>\n",
      "Prepariamo eliminazione lettera y\n",
      "https://www.airfleets.net/recherche/list-airline-z.htm\n",
      "<Response [200]>\n",
      "<a class=\"page2\">Page 1/2 </a>\n",
      "Page 1/2 \n",
      "fetch indirizzo https://www.airfleets.net/recherche/list-airline-z_0.htm <Response [200]>\n",
      "fetch indirizzo https://www.airfleets.net/recherche/list-airline-z_20.htm <Response [200]>\n",
      "Prepariamo eliminazione lettera z\n",
      "\n",
      "All letters have been taken!\n"
     ]
    }
   ],
   "source": [
    "#recall def from utils_API.py for create lowercase alphabet\n",
    "while(len(alphabet) > 0):\n",
    "    \n",
    "    print('https://www.airfleets.net/recherche/list-airline-{}.htm'.format(alphabet[0]))\n",
    "    num_pagine = ut.get_num_pages('https://www.airfleets.net/recherche/list-airline-{}.htm'.format(alphabet[0]))\n",
    "    print(num_pagine)\n",
    "    num_pagine = num_pagine.split('/')[1]\n",
    "    \n",
    "    for pagina in range(1,int(num_pagine)+1):\n",
    "        url =''\n",
    "        if pagina == 1:\n",
    "            url = 'https://www.airfleets.net/recherche/list-airline-{}_0.htm'.format(alphabet[0])\n",
    "        else:\n",
    "            url = 'https://www.airfleets.net/recherche/list-airline-{}_{}.htm'.format(alphabet[0],(pagina-1)*20)\n",
    "        data = requests.get( url,headers = {'User-Agent':'{}'.format(ua.random)})\n",
    "        soup = BeautifulSoup(data.content, 'html.parser')\n",
    "        print('fetch indirizzo {} {}'.format(url,data))\n",
    "        \n",
    "        for table in soup.find_all(\"table\", class_=\"tablestd\"):\n",
    "            for row in table.find_all(\"tr\", class_=\"tabcontent\"):\n",
    "                for colonna in row.find_all(\"td\"):\n",
    "                    row_names.append(colonna.text)\n",
    "                    #print(row_names)\n",
    "                #print('fine row')\n",
    "\n",
    "                rows.append(row_names)\n",
    "                row_names = []\n",
    "        #time.sleep(1)\n",
    "    print('Prepariamo eliminazione lettera {}'.format(alphabet[0]))\n",
    "    alphabet.pop(0)\n",
    "                                                                \n",
    "                                                                                                                  \n",
    "print(\"\\nAll letters have been taken!\")"
   ]
  },
  {
   "cell_type": "code",
   "execution_count": 42,
   "id": "df189127",
   "metadata": {},
   "outputs": [
    {
     "data": {
      "text/plain": [
       "7365"
      ]
     },
     "execution_count": 42,
     "metadata": {},
     "output_type": "execute_result"
    }
   ],
   "source": [
    "len(rows)\n",
    "#7365 definitivo"
   ]
  },
  {
   "cell_type": "code",
   "execution_count": null,
   "id": "442b6e57",
   "metadata": {},
   "outputs": [],
   "source": [
    "#A_6501___3476\n",
    "#B_6987___3708\n",
    "#C_7295___3872\n",
    "#D_7365___3927"
   ]
  },
  {
   "cell_type": "code",
   "execution_count": 43,
   "id": "cb65a7f5",
   "metadata": {},
   "outputs": [],
   "source": [
    "#create pkl file\n",
    "today = date.today()\n",
    "\n",
    "tosave = [row]\n",
    "with open('saved_{}.pkl'.format(today), 'wb') as file:\n",
    "    # A new file will be created\n",
    "    pickle.dump(tosave, file)\n",
    "    \n",
    "file = open('saved_2023-08-29.pkl', 'rb')\n",
    "tosave = pickle.load(file)\n",
    "file.close()"
   ]
  },
  {
   "cell_type": "code",
   "execution_count": 98,
   "id": "e7c8822a",
   "metadata": {},
   "outputs": [
    {
     "data": {
      "text/html": [
       "<div>\n",
       "<style scoped>\n",
       "    .dataframe tbody tr th:only-of-type {\n",
       "        vertical-align: middle;\n",
       "    }\n",
       "\n",
       "    .dataframe tbody tr th {\n",
       "        vertical-align: top;\n",
       "    }\n",
       "\n",
       "    .dataframe thead th {\n",
       "        text-align: right;\n",
       "    }\n",
       "</style>\n",
       "<table border=\"1\" class=\"dataframe\">\n",
       "  <thead>\n",
       "    <tr style=\"text-align: right;\">\n",
       "      <th></th>\n",
       "      <th>AIRLINE</th>\n",
       "      <th>IMgG</th>\n",
       "      <th>COUNTRY</th>\n",
       "      <th>INFORMATION</th>\n",
       "    </tr>\n",
       "  </thead>\n",
       "  <tbody>\n",
       "    <tr>\n",
       "      <th>0</th>\n",
       "      <td>AB Airlines</td>\n",
       "      <td></td>\n",
       "      <td>United Kingdom</td>\n",
       "      <td>inactive (with supported aircraft)</td>\n",
       "    </tr>\n",
       "    <tr>\n",
       "      <th>1</th>\n",
       "      <td>Aba Air</td>\n",
       "      <td></td>\n",
       "      <td>Czech Republic</td>\n",
       "      <td>inactive (with supported aircraft)</td>\n",
       "    </tr>\n",
       "    <tr>\n",
       "      <th>2</th>\n",
       "      <td>ABC Air Hungary</td>\n",
       "      <td></td>\n",
       "      <td>Hungary</td>\n",
       "      <td>inactive (with supported aircraft)</td>\n",
       "    </tr>\n",
       "    <tr>\n",
       "      <th>3</th>\n",
       "      <td>Abelag Airways</td>\n",
       "      <td></td>\n",
       "      <td>Belgium</td>\n",
       "      <td>inactive (with supported aircraft)</td>\n",
       "    </tr>\n",
       "    <tr>\n",
       "      <th>4</th>\n",
       "      <td>ABS Jets</td>\n",
       "      <td></td>\n",
       "      <td>Czech Republic</td>\n",
       "      <td>4 aircraft</td>\n",
       "    </tr>\n",
       "  </tbody>\n",
       "</table>\n",
       "</div>"
      ],
      "text/plain": [
       "           AIRLINE IMgG           COUNTRY                          INFORMATION\n",
       "0      AB Airlines         United Kingdom   inactive (with supported aircraft)\n",
       "1          Aba Air         Czech Republic   inactive (with supported aircraft)\n",
       "2  ABC Air Hungary                Hungary   inactive (with supported aircraft)\n",
       "3   Abelag Airways                Belgium   inactive (with supported aircraft)\n",
       "4         ABS Jets         Czech Republic                          4 aircraft "
      ]
     },
     "execution_count": 98,
     "metadata": {},
     "output_type": "execute_result"
    }
   ],
   "source": [
    "#create df \n",
    "len(rows)\n",
    "heading = ['AIRLINE','IMgG','COUNTRY','INFORMATION']\n",
    "df_af = pd.DataFrame(columns=heading)\n",
    "for r in rows:\n",
    "    if len(r)!=0:\n",
    "        r = [el.replace('\\n','') for el in  r]\n",
    "        df_af.loc[len(df_af)] = r\n",
    "\n",
    "df_af.head()"
   ]
  },
  {
   "cell_type": "code",
   "execution_count": 100,
   "id": "133f4ce7",
   "metadata": {},
   "outputs": [
    {
     "data": {
      "text/html": [
       "<div>\n",
       "<style scoped>\n",
       "    .dataframe tbody tr th:only-of-type {\n",
       "        vertical-align: middle;\n",
       "    }\n",
       "\n",
       "    .dataframe tbody tr th {\n",
       "        vertical-align: top;\n",
       "    }\n",
       "\n",
       "    .dataframe thead th {\n",
       "        text-align: right;\n",
       "    }\n",
       "</style>\n",
       "<table border=\"1\" class=\"dataframe\">\n",
       "  <thead>\n",
       "    <tr style=\"text-align: right;\">\n",
       "      <th></th>\n",
       "      <th>AIRLINE</th>\n",
       "      <th>IMgG</th>\n",
       "      <th>COUNTRY</th>\n",
       "      <th>INFORMATION</th>\n",
       "    </tr>\n",
       "  </thead>\n",
       "  <tbody>\n",
       "    <tr>\n",
       "      <th>0</th>\n",
       "      <td>AB Airlines</td>\n",
       "      <td></td>\n",
       "      <td>United Kingdom</td>\n",
       "      <td>inactive (with supported aircraft)</td>\n",
       "    </tr>\n",
       "    <tr>\n",
       "      <th>1</th>\n",
       "      <td>Aba Air</td>\n",
       "      <td></td>\n",
       "      <td>Czech Republic</td>\n",
       "      <td>inactive (with supported aircraft)</td>\n",
       "    </tr>\n",
       "    <tr>\n",
       "      <th>2</th>\n",
       "      <td>ABC Air Hungary</td>\n",
       "      <td></td>\n",
       "      <td>Hungary</td>\n",
       "      <td>inactive (with supported aircraft)</td>\n",
       "    </tr>\n",
       "    <tr>\n",
       "      <th>3</th>\n",
       "      <td>Abelag Airways</td>\n",
       "      <td></td>\n",
       "      <td>Belgium</td>\n",
       "      <td>inactive (with supported aircraft)</td>\n",
       "    </tr>\n",
       "    <tr>\n",
       "      <th>4</th>\n",
       "      <td>ABS Jets</td>\n",
       "      <td></td>\n",
       "      <td>Czech Republic</td>\n",
       "      <td>4 aircraft</td>\n",
       "    </tr>\n",
       "    <tr>\n",
       "      <th>...</th>\n",
       "      <td>...</td>\n",
       "      <td>...</td>\n",
       "      <td>...</td>\n",
       "      <td>...</td>\n",
       "    </tr>\n",
       "    <tr>\n",
       "      <th>7360</th>\n",
       "      <td>ZIPAIR Tokyo</td>\n",
       "      <td></td>\n",
       "      <td>Japan</td>\n",
       "      <td>7 aircraft</td>\n",
       "    </tr>\n",
       "    <tr>\n",
       "      <th>7361</th>\n",
       "      <td>Zoom Air</td>\n",
       "      <td></td>\n",
       "      <td>India</td>\n",
       "      <td>3 aircraft</td>\n",
       "    </tr>\n",
       "    <tr>\n",
       "      <th>7362</th>\n",
       "      <td>Zoom Airlines</td>\n",
       "      <td></td>\n",
       "      <td>Canada</td>\n",
       "      <td>inactive (with supported aircraft)</td>\n",
       "    </tr>\n",
       "    <tr>\n",
       "      <th>7363</th>\n",
       "      <td>Zoom Airlines UK</td>\n",
       "      <td></td>\n",
       "      <td>United Kingdom</td>\n",
       "      <td>inactive (with supported aircraft)</td>\n",
       "    </tr>\n",
       "    <tr>\n",
       "      <th>7364</th>\n",
       "      <td>ZYB Lily Jet</td>\n",
       "      <td></td>\n",
       "      <td>China</td>\n",
       "      <td>3 aircraft</td>\n",
       "    </tr>\n",
       "  </tbody>\n",
       "</table>\n",
       "<p>7365 rows × 4 columns</p>\n",
       "</div>"
      ],
      "text/plain": [
       "               AIRLINE IMgG           COUNTRY  \\\n",
       "0          AB Airlines         United Kingdom   \n",
       "1              Aba Air         Czech Republic   \n",
       "2      ABC Air Hungary                Hungary   \n",
       "3       Abelag Airways                Belgium   \n",
       "4             ABS Jets         Czech Republic   \n",
       "...                ...  ...               ...   \n",
       "7360      ZIPAIR Tokyo                  Japan   \n",
       "7361          Zoom Air                  India   \n",
       "7362     Zoom Airlines                 Canada   \n",
       "7363  Zoom Airlines UK         United Kingdom   \n",
       "7364      ZYB Lily Jet                  China   \n",
       "\n",
       "                              INFORMATION  \n",
       "0      inactive (with supported aircraft)  \n",
       "1      inactive (with supported aircraft)  \n",
       "2      inactive (with supported aircraft)  \n",
       "3      inactive (with supported aircraft)  \n",
       "4                             4 aircraft   \n",
       "...                                   ...  \n",
       "7360                          7 aircraft   \n",
       "7361                          3 aircraft   \n",
       "7362   inactive (with supported aircraft)  \n",
       "7363   inactive (with supported aircraft)  \n",
       "7364                          3 aircraft   \n",
       "\n",
       "[7365 rows x 4 columns]"
      ]
     },
     "execution_count": 100,
     "metadata": {},
     "output_type": "execute_result"
    }
   ],
   "source": [
    "df_af"
   ]
  },
  {
   "cell_type": "code",
   "execution_count": 109,
   "id": "7d131341",
   "metadata": {},
   "outputs": [
    {
     "name": "stdout",
     "output_type": "stream",
     "text": [
      "Airlines total: 7365\n",
      "Duplicates rows: 3438\n",
      "Unique row: 3927\n"
     ]
    }
   ],
   "source": [
    "#check & count duplicates rows\n",
    "df_num = len(df_af)\n",
    "df_af_nrows_double = len(df_af) - len(df_af.drop_duplicates()) #totali-univoci\n",
    "df_af_unique = len(df_af.drop_duplicates())\n",
    "print(f\"Airlines total: {df_num}\")               \n",
    "print(f\"Duplicates rows: {df_af_nrows_double}\")\n",
    "print(f\"Unique row: {df_af_unique}\")\n"
   ]
  },
  {
   "cell_type": "code",
   "execution_count": 110,
   "id": "0f92e558",
   "metadata": {},
   "outputs": [],
   "source": [
    "#export to excell\n",
    "df_no_duplicates = df_new.drop_duplicates()\n",
    "df_no_duplicates.to_excel(\"df_airfleets_clean.xlsx\", index=False)"
   ]
  },
  {
   "cell_type": "code",
   "execution_count": 46,
   "id": "ae5334b0",
   "metadata": {},
   "outputs": [],
   "source": []
  },
  {
   "cell_type": "code",
   "execution_count": null,
   "id": "d70faa2d",
   "metadata": {},
   "outputs": [],
   "source": []
  },
  {
   "cell_type": "code",
   "execution_count": null,
   "id": "83602e6c",
   "metadata": {},
   "outputs": [],
   "source": []
  },
  {
   "cell_type": "code",
   "execution_count": null,
   "id": "3555636b",
   "metadata": {},
   "outputs": [],
   "source": [
    "# Delete duplicate data\n",
    "unique_rows = []\n",
    "seen = set()\n",
    "\n",
    "for row in rows:\n",
    "    if tuple(row) not in seen:\n",
    "        seen.add(tuple(row))\n",
    "        unique_rows.append(row)"
   ]
  },
  {
   "cell_type": "code",
   "execution_count": null,
   "id": "3c039b68",
   "metadata": {},
   "outputs": [],
   "source": [
    "print(len(rows))"
   ]
  },
  {
   "cell_type": "code",
   "execution_count": null,
   "id": "057600b1",
   "metadata": {},
   "outputs": [],
   "source": [
    "df_new.to_excel('Airfleets_new.xlsx', index = False)"
   ]
  },
  {
   "cell_type": "markdown",
   "id": "3d7566a4",
   "metadata": {},
   "source": [
    "### Statistics of categorical data"
   ]
  },
  {
   "cell_type": "markdown",
   "id": "0d3b88c7",
   "metadata": {},
   "source": [
    "<font size=\"4\" color=red> Very few patients have had a stroke: the dataset is unbalanced </font>"
   ]
  },
  {
   "cell_type": "markdown",
   "id": "63063393",
   "metadata": {},
   "source": [
    "<a id = '2.3'></a>\n",
    "<h1 style=\"font-size: 150%;\">Definition of the Data Transformation Pipeline </h1>"
   ]
  },
  {
   "cell_type": "markdown",
   "id": "46f926ff",
   "metadata": {},
   "source": [
    "In classifier_configs, better results were attempted by trying different algorithms, including XGBClassifier() and SVC(), the results of which were similar and/or worse in terms of performance and timing."
   ]
  },
  {
   "cell_type": "markdown",
   "id": "33ad0178",
   "metadata": {},
   "source": [
    "<a id = '3.1'></a>\n",
    "<h1 style=\"font-size: 150%;\">Outcome</h1>"
   ]
  },
  {
   "cell_type": "markdown",
   "id": "17ac78d0",
   "metadata": {},
   "source": [
    "<font size=\"4\" color=magenta> The best seems to be: </font> <font size=\"4\"><b> LogisticRegression </font>"
   ]
  },
  {
   "cell_type": "markdown",
   "id": "6cea3940",
   "metadata": {},
   "source": [
    "<a id = '3.2'></a>\n",
    "<h1 style=\"font-size: 150%;\">Refinement of the selected model</h1>\n",
    "\n",
    "Previously, we selected one of the best candidate models. Now, we perform the hyperparameter optimization again by fixing the modelling approach and varying the hyperparameters in a range close to that of the selected "
   ]
  },
  {
   "cell_type": "markdown",
   "id": "f5cea486",
   "metadata": {},
   "source": [
    "<a id = '3.3'></a>\n",
    "<h1 style=\"font-size: 150%;\">Learning curves & Validation curves </h1>"
   ]
  },
  {
   "cell_type": "markdown",
   "id": "7537ced4",
   "metadata": {},
   "source": [
    "The graph shows the learning curve to assess how the performance of the model varies with the size of the training set.\n",
    "\n",
    "The blue curve shows the accuracy of the model on the training set, while the green curve shows the accuracy on the validation set; the variance of the results is indicated by the coloured areas.\n",
    "\n",
    "The accuracy of the model decreases rapidly as the size of the training set increases, then increases and finally stabilises. There are no overfitting problems, the accuracy line on the training set is never much higher than that on the validation set, so there is no loss of generality."
   ]
  },
  {
   "cell_type": "code",
   "execution_count": null,
   "id": "9b8e605b",
   "metadata": {},
   "outputs": [],
   "source": []
  },
  {
   "cell_type": "markdown",
   "id": "96b4f05d",
   "metadata": {},
   "source": [
    "As noted earlier, some stroke-related categorical data show who are most at risk. Multiple attempts, with as many algorithms, did not result in exceeding the 30% accuracy value, this does not exclude that additional investigation may lead to the identification of better models."
   ]
  },
  {
   "cell_type": "code",
   "execution_count": null,
   "id": "fd99725c",
   "metadata": {
    "scrolled": true
   },
   "outputs": [],
   "source": [
    "#recall def from utils_API.py for create lowercase alphabet\n",
    "ut.get_num_pages(url) #se stacchi la def in un altro blocco il codice non funziona\n",
    "\n",
    "alphabet = ut.listAlphabet()\n",
    "alphabet.pop(0)\n",
    "\n",
    "rows = []\n",
    "row_names = []\n",
    "\n",
    "for index,letter in enumerate(alphabet):\n",
    "    \n",
    "    print('https://www.airfleets.net/recherche/list-airline-{}.htm'.format(letter))\n",
    "    num_pagine = ut.get_num_pages('https://www.airfleets.net/recherche/list-airline-{}.htm'.format(letter))\n",
    "    print(num_pagine)\n",
    "    num_pagine = num_pagine.split('/')[1]\n",
    "    \n",
    "    for pagina in range(1,int(num_pagine)+1):\n",
    "        url =''\n",
    "        if pagina == 1:\n",
    "            url = 'https://www.airfleets.net/recherche/list-airline-{}_0.htm'.format(letter)\n",
    "        else:\n",
    "            url = 'https://www.airfleets.net/recherche/list-airline-{}_{}.htm'.format(letter,(pagina-1)*20)\n",
    "        data = requests.get( url,headers = {'User-Agent':'{}'.format(ua.random)})\n",
    "        soup = BeautifulSoup(data.content, 'html.parser')\n",
    "        print('fetch indirizzo {} {} index:{}'.format(url,data,index))\n",
    "        \n",
    "        for table in soup.find_all(\"table\", class_=\"tablestd\"):\n",
    "            for row in table.find_all(\"tr\", class_=\"tabcontent\"):\n",
    "                for colonna in row.find_all(\"td\"):\n",
    "                    row_names.append(colonna.text)\n",
    "                    #print(row_names)\n",
    "                #print('fine row')\n",
    "\n",
    "                rows.append(row_names)\n",
    "                row_names = []\n",
    "        time.sleep(1)\n",
    "    print('prepariamom eliminazione lettera {}'.format(alphabet[0))\n",
    "    alphabet.pop(0)\n",
    "                                                                \n",
    "                                                                \n",
    "                                                                \n",
    "print(\"All letters have been taken!\")"
   ]
  }
 ],
 "metadata": {
  "kernelspec": {
   "display_name": "Python 3 (ipykernel)",
   "language": "python",
   "name": "python3"
  },
  "language_info": {
   "codemirror_mode": {
    "name": "ipython",
    "version": 3
   },
   "file_extension": ".py",
   "mimetype": "text/x-python",
   "name": "python",
   "nbconvert_exporter": "python",
   "pygments_lexer": "ipython3",
   "version": "3.9.17"
  }
 },
 "nbformat": 4,
 "nbformat_minor": 5
}
