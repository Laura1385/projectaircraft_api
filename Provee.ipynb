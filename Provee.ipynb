{
 "cells": [
  {
   "cell_type": "code",
   "execution_count": null,
   "id": "42f80d81",
   "metadata": {},
   "outputs": [],
   "source": [
    "#pip install browser-cookie3"
   ]
  },
  {
   "cell_type": "code",
   "execution_count": null,
   "id": "36c800ee",
   "metadata": {},
   "outputs": [],
   "source": [
    "#pip install BeautifulSoup4"
   ]
  },
  {
   "cell_type": "code",
   "execution_count": null,
   "id": "7fda250c",
   "metadata": {},
   "outputs": [],
   "source": [
    "import sys\n",
    "print(sys.executable)"
   ]
  },
  {
   "cell_type": "code",
   "execution_count": 11,
   "id": "80534747",
   "metadata": {
    "scrolled": true
   },
   "outputs": [
    {
     "name": "stdout",
     "output_type": "stream",
     "text": [
      "Codice di stato HTTP: 403\n"
     ]
    }
   ],
   "source": [
    "import requests\n",
    "from fake_useragent import UserAgent\n",
    "ua = UserAgent()\n",
    "r = requests.get('https://www.airfleets.net/recherche/list-airline-a.htm',headers = {\"User-Agent\":ua.random},allow_redirects=False)\n",
    "if r.status_code == 301:\n",
    "    new_url = r.headers['Location']\n",
    "    print(f\"301-La pagina è stata spostata permanentemente a: {new_url}\")\n",
    "else:\n",
    "    print(\"Codice di stato HTTP:\", r.status_code)\n"
   ]
  },
  {
   "cell_type": "code",
   "execution_count": null,
   "id": "d4308514",
   "metadata": {},
   "outputs": [],
   "source": [
    "import browser_cookie3\n",
    "cookies = browser_cookie3.chrome(domain_name='.airfleets.net')\n",
    "response = requests.get('https://www.airfleets.net',headers = {\"User-Agent\":ua.random}, cookies=cookies, timeout=3)\n",
    "response"
   ]
  },
  {
   "cell_type": "code",
   "execution_count": null,
   "id": "3d00b63c",
   "metadata": {},
   "outputs": [],
   "source": [
    "r = requests.get('https://www.airfleets.net/recherche/list-airline-a.htm')\n",
    "r"
   ]
  },
  {
   "cell_type": "code",
   "execution_count": 12,
   "id": "9600db95",
   "metadata": {
    "scrolled": true
   },
   "outputs": [
    {
     "name": "stdout",
     "output_type": "stream",
     "text": [
      "b'<!DOCTYPE html><html lang=\"en-US\"><head><title>Just a moment...</title><meta http-equiv=\"Content-Type\" content=\"text/html; charset=UTF-8\"><meta http-equiv=\"X-UA-Compatible\" content=\"IE=Edge\"><meta name=\"robots\" content=\"noindex,nofollow\"><meta name=\"viewport\" content=\"width=device-width,initial-scale=1\"><link href=\"/cdn-cgi/styles/challenges.css\" rel=\"stylesheet\"><meta http-equiv=\"refresh\" content=\"35\"></head><body class=\"no-js\"><div class=\"main-wrapper\" role=\"main\"><div class=\"main-content\"><noscript><div id=\"challenge-error-title\"><div class=\"h2\"><span class=\"icon-wrapper\"><div class=\"heading-icon warning-icon\"></div></span><span id=\"challenge-error-text\">Enable JavaScript and cookies to continue</span></div></div></noscript></div></div><script>(function(){window._cf_chl_opt={cvId: \\'2\\',cZone: \\'www.airfleets.net\\',cType: \\'non-interactive\\',cNounce: \\'17794\\',cRay: \\'800d0250febe22a3\\',cHash: \\'ef8b1880dfe3341\\',cUPMDTk: \"\\\\/recherche\\\\/list-airline-a.htm?__cf_chl_tk=W4O9NVD_POAOgxC2oOr_4WcrPDFnGr_Z453EmjrFeuw-1693733793-0-gaNycGzNCbs\",cFPWv: \\'g\\',cTTimeMs: \\'1000\\',cMTimeMs: \\'60000\\',cTplV: 5,cTplB: \\'cf\\',cK: \"visitor-time\",fa: \"/recherche/list-airline-a.htm?__cf_chl_f_tk=W4O9NVD_POAOgxC2oOr_4WcrPDFnGr_Z453EmjrFeuw-1693733793-0-gaNycGzNCbs\",md: \"vg.gt9vEEL4SiTZYsegpDkaihIYUyE3hvXk4cxrpGq8-1693733793-0-AS5wJ3fvtNnvJEtZk7R8bVikZviE1kfbEa4ptcpqXGZlUoe39novVzskr48Mm5_SxfGF58Fg0FE-XWzhxSLapPygnRaDZPrNxv1Nx22bkbDYYNgoayFZezQL_fP9_DuE0kdmw5QwA2ZkGWiGJrK3jar2V9I5BUdfjm-bgPurHbKGfOlboLMsSgbYu62v9nERH9LEvfjOysF8OTFKjdNPJXeNQtNCivXix0ZTr_7Wp3xw0XrMT_6j_diveWAgYkPmgnCTOPXEx7aEyXKnkzc-p_kPBou37yE4HPPmeEcWSR0kdbZSvTF8RzYHc0iId2BEXR2NNuD-ZuLRzJujaS811CqKfXP9KFhW7vl2cQ0SM2bOF0oE9Px2VOcKzJEEk81SKbPzCvXikMoRCLruvFZUUMz3mmo5Isi_xk7i0P-4mrO5VKE3LlTRy7Y_KWrFwn_etn2NvsWM3JM7q6FYS6mAq2rGVaF7IE4zk2wH26QF8Y8QQGm4GLiXe0jOA1Jz_rHndvb2xHIugxqszSIkuhTQrTZ6s_WZToNlpF-bwkBrsm8om1eHvyFQuJUaGXwXxQmeIbLMZZgwNp0IpO8OydywopL9ztKIqkC1zRrHfszNabn4Bri7gal15s5Vrpp18QMzTW4etZZBinh6gHD4iEGSxLN0Q2awXSjGTcf_lAduaa2fYpX5FM_90hoazHv3OxT8dPkJhRRGmbBQO1baJB7J2pKWmrPDs55c3PZaK_AziZgGQm3oksgbUK1Z7yw5LekQ5XIk_Mz3eG1IweFHrT5WbU1gtnPimw7h_OYodos7Y6LQw7kQb7IRZnCKA-0ZMK0RjN7D5cb_v0RQP8R_stwjFegt_4KqmLl-9jZjLQQmmjr06mdwqh7pGrbfvSeMjc8EyPhLHCu1WMylUAGf4m0FtA0VpXcFRFXQia_UYdAFq33ma_U79NDuSXlnP289JDINKpTb7b1U0MCqkZZLnl_1hD7mc2TucQlbihZ86wXDa5VhhoocbKEumTRgDcL3WSI1Fr2ANqwFcYgW5zxOyJLl5J9fQJIE64pIZpEFXFz7KC0ZFm14QiPWpIzR4QUwWgK6ia41pyyqeJUzJ-YsBWL-o9hSqs4JCxWZByFACIWY5SPA3pVHDSArw1VjD0PTK7LUgENAIEgi7gw0KtUTQEb1qsHqEVsYzbDTtMOu0ahWCS2s3smEecA8lFG93IM8US1cRfdvcWj6_SZNuRKPHzHi99GgRM4ORuGFH17uip52mRD_Frkx0HSqZlB-gM0M_sEyvylT2c4aIWUtRIbYKj9Q0CKTE0hQz_Zsl0yrv8M-Jk4fA5swU5DgFKuXBe0ryTokujiZuU2TQc1ryKOOB7Rab8ioDtJ7mKUwptj9mWl_4jkcQlzATBmMAVMQTyfJKz9Aem3AlGazNaw-occfCSLUq9QOqULYWwfnfgf62ZBCZAyWetDdPpalNgHmxId32TjzDzhbKEIcAAlPuVr_HjNxAhwrXzRjfnLcbpAewdzVvFPRuR37TdHGhicyMmwHU39U4RD1QpGvz8ucZnL20N5cATFjLR3nbgK-rTwHey6bc59eos0O423oWXDes65GCAwFxxa81I65wnQqTgAMAPdL5TPBLV4dkLsxskq8uSXhUsdrsdAXpBawMOheIZnrx-HUf5krjtBgHiw1T-CHIypdNB4DEzlANRMCbGAYXWRnA-Oa9cNm8I9n0eA4FeI6-DcgNWatXKWeRhyDI_XDL3T2xKAnq7J1IhpB0bZyZHCZQWTgs9iL-u4B_8E5NCnozmg79VjpFarLXsz-9aYHy9yft3LVEBZ1vgYF-OnWFebPfgzbuYVOpiOiO_vfe1B9CzuFPQNziHgOQofV1j8B0iCf2dNLO6dAjZwBQMvZ80_kq3IRsYksCR6MX9oMtcQzOQh3yXQZAq9SnaAYbUEBtbau24Z0hlWHpRGDcGevfdAvRZaDbbIzQ7DyILfuCiKISYii-jT0ZwZaCU4ZM0qx225KlonQ6b_ZwmI6ugwYj-xQ48XY_KK9OjyNRRFTrLsB0fzN8B0yyjiyP-zyFKHwWT3HyG32ZHIYLPQ07UNf_qH1_rSrQgper8ay1Lddh384rZqkPLrK5fVBQ8tGURmRPPqUxRK5QQ8IixuJZahC8e3Jf8rj1cv2dNuQI-vEFfhj3ezB4snGy5c3-78LFullQN6NJ8d7r5vIGQdBh8BdTpt27lLcOs4ZJw6q_CEmQRJKF8NyZzSd_Vf8Ic5hZPfaVprlzfIfjokBu-_gQn_NVMgYebQTLcu7Q7vsFpJmrHZkh02DMz4VTFDiBYp2ecft6DnZRsTtztC7QAC-05nT3TtRWq8gMmc6VZJdW1OfRRN6C4EOJgcNdgRmwZ95sWDyDB8NiNyweogFzZyByBHpKRnYyM3FWAOSD7bICaHYrJBfg-EKXQ\",cRq: {ru: \\'aHR0cHM6Ly93d3cuYWlyZmxlZXRzLm5ldC9yZWNoZXJjaGUvbGlzdC1haXJsaW5lLWEuaHRt\\',ra: \\'Tk9fVUE=\\',rm: \\'R0VU\\',d: \\'qUE+vyZpWf8FMoSBpazXPIc3U1+ic7qg64qFTiYD6fhbOcOsWihVG1kr82PzWE03QsFuNenAnz59cA+/ax72I8hDli+uLhQA2Oa32NeMdbwmPfFex1DcDwGhSO2dR5DUbAdpptkSwxnlQdY3NHe9q61a2SbFjq6jKyelxHgly7uXsWib1qbbwII2Rpqt1OWTqft6OsxkYkn1oqCM+toGjGQumE9WM2RyzNzJ8vJCoYB2EvpIHqcUQuNEsDSdoPxPTrgKkM/4ONMzuYWP5RxPQJ5Msm93cjCD8uGI4HPdyMoWlP14MLyzJItwcLVNk2zcfljQ1tYD3ppxMS/NumZ+lfQ0/fLUWgU5Hdp9C050qJ3TO/2gFm+OpoYwuPK2xJS8pCRiD4kbDrfl5ZE0qUR6xwHnKX4vXoYkiNCUgrcd9uCe19PaHlyUwhu6G2vjSXjjez7b4GfCWifXOPQhFxliqzhiWO6ucsWCFB2scZ6hzmwIvj2EKjCLNRRt1urJSqetopKF2DP82A3AeHkNdxLcTKEnoYs6vJnMIyTQA7NhEp4=\\',t: \\'MTY5MzczMzc5My40MzAwMDA=\\',cT: Math.floor(Date.now() / 1000),m: \\'yq3XovGA9vxeX2LzsaHzIGiEHfM+Cq8E+z1qZS/HbUA=\\',i1: \\'Hf0qbxLJPhi07JLIdr56Fg==\\',i2: \\'lFOHEK2OawIJQOnWfq3dKw==\\',zh: \\'p/otmLxYm6/lrPg0XUrqn4jmUIrdoMm7MHesG926L40=\\',uh: \\'DV4j3Tmrbi5Rs1q3ahwVS6SgbPbI7np5884QO1u1Cgg=\\',hh: \\'OqUvSJAHONjYEchpccfHjKLKJ5VDO3hVQgn86waqh7E=\\',}};var cpo = document.createElement(\\'script\\');cpo.src = \\'/cdn-cgi/challenge-platform/h/g/orchestrate/chl_page/v1?ray=800d0250febe22a3\\';window._cf_chl_opt.cOgUHash = location.hash === \\'\\' && location.href.indexOf(\\'#\\') !== -1 ? \\'#\\' : location.hash;window._cf_chl_opt.cOgUQuery = location.search === \\'\\' && location.href.slice(0, location.href.length - window._cf_chl_opt.cOgUHash.length).indexOf(\\'?\\') !== -1 ? \\'?\\' : location.search;if (window.history && window.history.replaceState) {var ogU = location.pathname + window._cf_chl_opt.cOgUQuery + window._cf_chl_opt.cOgUHash;history.replaceState(null, null, \"\\\\/recherche\\\\/list-airline-a.htm?__cf_chl_rt_tk=W4O9NVD_POAOgxC2oOr_4WcrPDFnGr_Z453EmjrFeuw-1693733793-0-gaNycGzNCbs\" + window._cf_chl_opt.cOgUHash);cpo.onload = function() {history.replaceState(null, null, ogU);};}document.getElementsByTagName(\\'head\\')[0].appendChild(cpo);}());</script></body></html>'\n"
     ]
    }
   ],
   "source": [
    "import http.client\n",
    "\n",
    "url = 'www.airfleets.net'\n",
    "\n",
    "# Estrazione dell'host e il percorso dall'URL\n",
    "if '://' in url:\n",
    "    url_parts = url.split('://')\n",
    "    host_path = url_parts[1]\n",
    "else:\n",
    "    host_path = url\n",
    "\n",
    "# Separazione dell'host dalla porta\n",
    "if ':' in host_path:\n",
    "    host, port = host_path.split(':')\n",
    "else:\n",
    "    host = host_path\n",
    "    port = 443  # Porta HTTPS predefinita\n",
    "\n",
    "# Creazione connessione HTTPS utilizzando solo l'host e la porta\n",
    "conn = http.client.HTTPSConnection(host, port)\n",
    "\n",
    "# Il percorso dovrebbe essere specificato nella richiesta GET successiva\n",
    "path = '/recherche/list-airline-a.htm'\n",
    "\n",
    "# Invio di una richiesta GET con il percorso specifico\n",
    "conn.request(\"GET\", path)\n",
    "\n",
    "# Risposta e lettura contenuto\n",
    "response = conn.getresponse()\n",
    "html = response.read()\n",
    "conn.close()\n",
    "print(html)\n"
   ]
  },
  {
   "cell_type": "code",
   "execution_count": 15,
   "id": "756c40a6",
   "metadata": {},
   "outputs": [
    {
     "data": {
      "text/plain": [
       "403"
      ]
     },
     "execution_count": 15,
     "metadata": {},
     "output_type": "execute_result"
    }
   ],
   "source": [
    "response.code"
   ]
  },
  {
   "cell_type": "code",
   "execution_count": null,
   "id": "dca41e2d",
   "metadata": {},
   "outputs": [],
   "source": []
  },
  {
   "cell_type": "code",
   "execution_count": null,
   "id": "2b4d3bc6",
   "metadata": {},
   "outputs": [],
   "source": []
  },
  {
   "cell_type": "code",
   "execution_count": null,
   "id": "d13d470a",
   "metadata": {},
   "outputs": [],
   "source": []
  }
 ],
 "metadata": {
  "kernelspec": {
   "display_name": "Python 3 (ipykernel)",
   "language": "python",
   "name": "python3"
  },
  "language_info": {
   "codemirror_mode": {
    "name": "ipython",
    "version": 3
   },
   "file_extension": ".py",
   "mimetype": "text/x-python",
   "name": "python",
   "nbconvert_exporter": "python",
   "pygments_lexer": "ipython3",
   "version": "3.9.17"
  }
 },
 "nbformat": 4,
 "nbformat_minor": 5
}
